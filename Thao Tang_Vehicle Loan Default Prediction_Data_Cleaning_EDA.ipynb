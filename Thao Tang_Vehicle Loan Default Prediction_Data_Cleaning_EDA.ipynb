{
 "cells": [
  {
   "cell_type": "code",
   "execution_count": 1,
   "id": "da90314b",
   "metadata": {},
   "outputs": [],
   "source": [
    "import numpy as np\n",
    "import pandas as pd\n",
    "import matplotlib.pyplot as plt\n",
    "import seaborn as sns\n",
    "from datetime import datetime\n",
    "%matplotlib inline\n",
    "import warnings\n",
    "warnings.filterwarnings('ignore')\n",
    "from sklearn.model_selection import train_test_split"
   ]
  },
  {
   "cell_type": "markdown",
   "id": "c526ee18",
   "metadata": {},
   "source": [
    "# Table of contents\n",
    "\n",
    "* [Data Dictionary](#datadic)\n",
    "* [Data Cleaning](#cleanup)\n",
    "    * [1. Overview](#overview)\n",
    "    * [2. Checking duplicates and NaN values](#nn)\n",
    "* [Train/Test Split](#split)\n",
    "* [Data Tranformation](#transform)\n",
    "    * [1. Ordinally mapping **PERFORM_CNS_SCORE_DESCRIPTION**](#ordinal)\n",
    "    * [2. Extracting **DISBURSAL_DATE** to **DISBURSAL_YEAR**, **DISBURSAL_MONTH**, **DISBURSAL_DAY**](#disbursal)\n",
    "    * [3. OneHotEncoding for **EMPLOYMENT_TYPE**](#employment)\n",
    "    * [4. Converting **AVERAGE_ACCT_AGE**, and **CREDIT_HISTORY_LENGTH** to numeric](#numeric)\n",
    "    * [5. Calculating age of borrowers](#age)\n",
    "    * [6. Checking single-value columns](#single)\n",
    "* [Exporting to csv for modelling](#export)\n",
    "* [EDA](#eda)\n",
    "    * [1. **LOAN_DEFAULT**](#loan_default)\n",
    "    * [2. **PERFORM_CNS_SCORE_DESCRIPTION**](#cns)\n",
    "    * [3. Default rate by state](#default_state)\n",
    "    * [4. **LTV**](#ltv)\n",
    "    * [5. **LOAN_DEFAULT** by month](#default_month)\n",
    "    \n",
    "    \n",
    "\n",
    "\n"
   ]
  },
  {
   "cell_type": "markdown",
   "id": "b1bd2867",
   "metadata": {},
   "source": [
    "# Data Dictionary  <a class=\"anchor\" id=\"datadic\"></a>"
   ]
  },
  {
   "cell_type": "code",
   "execution_count": 2,
   "id": "f394454b",
   "metadata": {
    "scrolled": true
   },
   "outputs": [],
   "source": [
    "from pandas import option_context\n",
    "data_dic=pd.read_csv('Data_dictionary.csv',index_col=0 ,keep_default_na=False)\n",
    "data_dic.columns = ['Description','']\n",
    "with option_context('display.max_colwidth',400):\n",
    "    display(data_dic)"
   ]
  },
  {
   "cell_type": "markdown",
   "id": "3e6322de",
   "metadata": {},
   "source": [
    "# Data Cleaning  <a class=\"anchor\" id=\"cleanup\"></a>"
   ]
  },
  {
   "cell_type": "markdown",
   "id": "045b8c91",
   "metadata": {},
   "source": [
    "## 1. Overview <a class=\"anchor\" id=\"overview\"></a>"
   ]
  },
  {
   "cell_type": "code",
   "execution_count": 3,
   "id": "9b302d15",
   "metadata": {
    "scrolled": true
   },
   "outputs": [
    {
     "data": {
      "text/html": [
       "<div>\n",
       "<style scoped>\n",
       "    .dataframe tbody tr th:only-of-type {\n",
       "        vertical-align: middle;\n",
       "    }\n",
       "\n",
       "    .dataframe tbody tr th {\n",
       "        vertical-align: top;\n",
       "    }\n",
       "\n",
       "    .dataframe thead th {\n",
       "        text-align: right;\n",
       "    }\n",
       "</style>\n",
       "<table border=\"1\" class=\"dataframe\">\n",
       "  <thead>\n",
       "    <tr style=\"text-align: right;\">\n",
       "      <th></th>\n",
       "      <th>UNIQUEID</th>\n",
       "      <th>DISBURSED_AMOUNT</th>\n",
       "      <th>ASSET_COST</th>\n",
       "      <th>LTV</th>\n",
       "      <th>BRANCH_ID</th>\n",
       "      <th>SUPPLIER_ID</th>\n",
       "      <th>MANUFACTURER_ID</th>\n",
       "      <th>CURRENT_PINCODE_ID</th>\n",
       "      <th>DATE_OF_BIRTH</th>\n",
       "      <th>EMPLOYMENT_TYPE</th>\n",
       "      <th>DISBURSAL_DATE</th>\n",
       "      <th>STATE_ID</th>\n",
       "      <th>EMPLOYEE_CODE_ID</th>\n",
       "      <th>MOBILENO_AVL_FLAG</th>\n",
       "      <th>AADHAR_FLAG</th>\n",
       "      <th>PAN_FLAG</th>\n",
       "      <th>VOTERID_FLAG</th>\n",
       "      <th>DRIVING_FLAG</th>\n",
       "      <th>PASSPORT_FLAG</th>\n",
       "      <th>PERFORM_CNS_SCORE</th>\n",
       "      <th>PERFORM_CNS_SCORE_DESCRIPTION</th>\n",
       "      <th>PRI_NO_OF_ACCTS</th>\n",
       "      <th>PRI_ACTIVE_ACCTS</th>\n",
       "      <th>PRI_OVERDUE_ACCTS</th>\n",
       "      <th>PRI_CURRENT_BALANCE</th>\n",
       "      <th>PRI_SANCTIONED_AMOUNT</th>\n",
       "      <th>PRI_DISBURSED_AMOUNT</th>\n",
       "      <th>SEC_NO_OF_ACCTS</th>\n",
       "      <th>SEC_ACTIVE_ACCTS</th>\n",
       "      <th>SEC_OVERDUE_ACCTS</th>\n",
       "      <th>SEC_CURRENT_BALANCE</th>\n",
       "      <th>SEC_SANCTIONED_AMOUNT</th>\n",
       "      <th>SEC_DISBURSED_AMOUNT</th>\n",
       "      <th>PRIMARY_INSTAL_AMT</th>\n",
       "      <th>SEC_INSTAL_AMT</th>\n",
       "      <th>NEW_ACCTS_IN_LAST_SIX_MONTHS</th>\n",
       "      <th>DELINQUENT_ACCTS_IN_LAST_SIX_MONTHS</th>\n",
       "      <th>AVERAGE_ACCT_AGE</th>\n",
       "      <th>CREDIT_HISTORY_LENGTH</th>\n",
       "      <th>NO_OF_INQUIRIES</th>\n",
       "      <th>LOAN_DEFAULT</th>\n",
       "    </tr>\n",
       "  </thead>\n",
       "  <tbody>\n",
       "    <tr>\n",
       "      <th>0</th>\n",
       "      <td>420825</td>\n",
       "      <td>50578</td>\n",
       "      <td>58400</td>\n",
       "      <td>89.55</td>\n",
       "      <td>67</td>\n",
       "      <td>22807</td>\n",
       "      <td>45</td>\n",
       "      <td>1441</td>\n",
       "      <td>01-01-1984</td>\n",
       "      <td>Salaried</td>\n",
       "      <td>03-08-2018</td>\n",
       "      <td>6</td>\n",
       "      <td>1998</td>\n",
       "      <td>1</td>\n",
       "      <td>1</td>\n",
       "      <td>0</td>\n",
       "      <td>0</td>\n",
       "      <td>0</td>\n",
       "      <td>0</td>\n",
       "      <td>0</td>\n",
       "      <td>No Bureau History Available</td>\n",
       "      <td>0</td>\n",
       "      <td>0</td>\n",
       "      <td>0</td>\n",
       "      <td>0</td>\n",
       "      <td>0</td>\n",
       "      <td>0</td>\n",
       "      <td>0</td>\n",
       "      <td>0</td>\n",
       "      <td>0</td>\n",
       "      <td>0</td>\n",
       "      <td>0</td>\n",
       "      <td>0</td>\n",
       "      <td>0</td>\n",
       "      <td>0</td>\n",
       "      <td>0</td>\n",
       "      <td>0</td>\n",
       "      <td>0yrs 0mon</td>\n",
       "      <td>0yrs 0mon</td>\n",
       "      <td>0</td>\n",
       "      <td>0</td>\n",
       "    </tr>\n",
       "    <tr>\n",
       "      <th>1</th>\n",
       "      <td>537409</td>\n",
       "      <td>47145</td>\n",
       "      <td>65550</td>\n",
       "      <td>73.23</td>\n",
       "      <td>67</td>\n",
       "      <td>22807</td>\n",
       "      <td>45</td>\n",
       "      <td>1502</td>\n",
       "      <td>31-07-1985</td>\n",
       "      <td>Self employed</td>\n",
       "      <td>26-09-2018</td>\n",
       "      <td>6</td>\n",
       "      <td>1998</td>\n",
       "      <td>1</td>\n",
       "      <td>1</td>\n",
       "      <td>0</td>\n",
       "      <td>0</td>\n",
       "      <td>0</td>\n",
       "      <td>0</td>\n",
       "      <td>598</td>\n",
       "      <td>I-Medium Risk</td>\n",
       "      <td>1</td>\n",
       "      <td>1</td>\n",
       "      <td>1</td>\n",
       "      <td>27600</td>\n",
       "      <td>50200</td>\n",
       "      <td>50200</td>\n",
       "      <td>0</td>\n",
       "      <td>0</td>\n",
       "      <td>0</td>\n",
       "      <td>0</td>\n",
       "      <td>0</td>\n",
       "      <td>0</td>\n",
       "      <td>1991</td>\n",
       "      <td>0</td>\n",
       "      <td>0</td>\n",
       "      <td>1</td>\n",
       "      <td>1yrs 11mon</td>\n",
       "      <td>1yrs 11mon</td>\n",
       "      <td>0</td>\n",
       "      <td>1</td>\n",
       "    </tr>\n",
       "    <tr>\n",
       "      <th>2</th>\n",
       "      <td>417566</td>\n",
       "      <td>53278</td>\n",
       "      <td>61360</td>\n",
       "      <td>89.63</td>\n",
       "      <td>67</td>\n",
       "      <td>22807</td>\n",
       "      <td>45</td>\n",
       "      <td>1497</td>\n",
       "      <td>24-08-1985</td>\n",
       "      <td>Self employed</td>\n",
       "      <td>01-08-2018</td>\n",
       "      <td>6</td>\n",
       "      <td>1998</td>\n",
       "      <td>1</td>\n",
       "      <td>1</td>\n",
       "      <td>0</td>\n",
       "      <td>0</td>\n",
       "      <td>0</td>\n",
       "      <td>0</td>\n",
       "      <td>0</td>\n",
       "      <td>No Bureau History Available</td>\n",
       "      <td>0</td>\n",
       "      <td>0</td>\n",
       "      <td>0</td>\n",
       "      <td>0</td>\n",
       "      <td>0</td>\n",
       "      <td>0</td>\n",
       "      <td>0</td>\n",
       "      <td>0</td>\n",
       "      <td>0</td>\n",
       "      <td>0</td>\n",
       "      <td>0</td>\n",
       "      <td>0</td>\n",
       "      <td>0</td>\n",
       "      <td>0</td>\n",
       "      <td>0</td>\n",
       "      <td>0</td>\n",
       "      <td>0yrs 0mon</td>\n",
       "      <td>0yrs 0mon</td>\n",
       "      <td>0</td>\n",
       "      <td>0</td>\n",
       "    </tr>\n",
       "  </tbody>\n",
       "</table>\n",
       "</div>"
      ],
      "text/plain": [
       "   UNIQUEID  DISBURSED_AMOUNT  ASSET_COST    LTV  BRANCH_ID  SUPPLIER_ID  \\\n",
       "0    420825             50578       58400  89.55         67        22807   \n",
       "1    537409             47145       65550  73.23         67        22807   \n",
       "2    417566             53278       61360  89.63         67        22807   \n",
       "\n",
       "   MANUFACTURER_ID  CURRENT_PINCODE_ID DATE_OF_BIRTH EMPLOYMENT_TYPE  \\\n",
       "0               45                1441    01-01-1984        Salaried   \n",
       "1               45                1502    31-07-1985   Self employed   \n",
       "2               45                1497    24-08-1985   Self employed   \n",
       "\n",
       "  DISBURSAL_DATE  STATE_ID  EMPLOYEE_CODE_ID  MOBILENO_AVL_FLAG  AADHAR_FLAG  \\\n",
       "0     03-08-2018         6              1998                  1            1   \n",
       "1     26-09-2018         6              1998                  1            1   \n",
       "2     01-08-2018         6              1998                  1            1   \n",
       "\n",
       "   PAN_FLAG  VOTERID_FLAG  DRIVING_FLAG  PASSPORT_FLAG  PERFORM_CNS_SCORE  \\\n",
       "0         0             0             0              0                  0   \n",
       "1         0             0             0              0                598   \n",
       "2         0             0             0              0                  0   \n",
       "\n",
       "  PERFORM_CNS_SCORE_DESCRIPTION  PRI_NO_OF_ACCTS  PRI_ACTIVE_ACCTS  \\\n",
       "0   No Bureau History Available                0                 0   \n",
       "1                 I-Medium Risk                1                 1   \n",
       "2   No Bureau History Available                0                 0   \n",
       "\n",
       "   PRI_OVERDUE_ACCTS  PRI_CURRENT_BALANCE  PRI_SANCTIONED_AMOUNT  \\\n",
       "0                  0                    0                      0   \n",
       "1                  1                27600                  50200   \n",
       "2                  0                    0                      0   \n",
       "\n",
       "   PRI_DISBURSED_AMOUNT  SEC_NO_OF_ACCTS  SEC_ACTIVE_ACCTS  SEC_OVERDUE_ACCTS  \\\n",
       "0                     0                0                 0                  0   \n",
       "1                 50200                0                 0                  0   \n",
       "2                     0                0                 0                  0   \n",
       "\n",
       "   SEC_CURRENT_BALANCE  SEC_SANCTIONED_AMOUNT  SEC_DISBURSED_AMOUNT  \\\n",
       "0                    0                      0                     0   \n",
       "1                    0                      0                     0   \n",
       "2                    0                      0                     0   \n",
       "\n",
       "   PRIMARY_INSTAL_AMT  SEC_INSTAL_AMT  NEW_ACCTS_IN_LAST_SIX_MONTHS  \\\n",
       "0                   0               0                             0   \n",
       "1                1991               0                             0   \n",
       "2                   0               0                             0   \n",
       "\n",
       "   DELINQUENT_ACCTS_IN_LAST_SIX_MONTHS AVERAGE_ACCT_AGE CREDIT_HISTORY_LENGTH  \\\n",
       "0                                    0        0yrs 0mon             0yrs 0mon   \n",
       "1                                    1       1yrs 11mon            1yrs 11mon   \n",
       "2                                    0        0yrs 0mon             0yrs 0mon   \n",
       "\n",
       "   NO_OF_INQUIRIES  LOAN_DEFAULT  \n",
       "0                0             0  \n",
       "1                0             1  \n",
       "2                0             0  "
      ]
     },
     "execution_count": 3,
     "metadata": {},
     "output_type": "execute_result"
    }
   ],
   "source": [
    "df=pd.read_csv('train.csv')\n",
    "\n",
    "pd.set_option('display.max_columns', None)\n",
    "df.head(3)"
   ]
  },
  {
   "cell_type": "code",
   "execution_count": 4,
   "id": "14cc0983",
   "metadata": {
    "scrolled": false
   },
   "outputs": [
    {
     "name": "stdout",
     "output_type": "stream",
     "text": [
      "The dataset has 233154 rows and 41 columns.\n"
     ]
    }
   ],
   "source": [
    "print(f'The dataset has {df.shape[0]} rows and {df.shape[1]} columns.')"
   ]
  },
  {
   "cell_type": "code",
   "execution_count": 5,
   "id": "978d7289",
   "metadata": {
    "scrolled": true
   },
   "outputs": [],
   "source": [
    "df.info()"
   ]
  },
  {
   "cell_type": "code",
   "execution_count": 6,
   "id": "0b10fd7d",
   "metadata": {
    "scrolled": true
   },
   "outputs": [
    {
     "data": {
      "text/html": [
       "<div>\n",
       "<style scoped>\n",
       "    .dataframe tbody tr th:only-of-type {\n",
       "        vertical-align: middle;\n",
       "    }\n",
       "\n",
       "    .dataframe tbody tr th {\n",
       "        vertical-align: top;\n",
       "    }\n",
       "\n",
       "    .dataframe thead th {\n",
       "        text-align: right;\n",
       "    }\n",
       "</style>\n",
       "<table border=\"1\" class=\"dataframe\">\n",
       "  <thead>\n",
       "    <tr style=\"text-align: right;\">\n",
       "      <th></th>\n",
       "      <th>DATE_OF_BIRTH</th>\n",
       "      <th>EMPLOYMENT_TYPE</th>\n",
       "      <th>DISBURSAL_DATE</th>\n",
       "      <th>PERFORM_CNS_SCORE_DESCRIPTION</th>\n",
       "      <th>AVERAGE_ACCT_AGE</th>\n",
       "      <th>CREDIT_HISTORY_LENGTH</th>\n",
       "    </tr>\n",
       "  </thead>\n",
       "  <tbody>\n",
       "    <tr>\n",
       "      <th>0</th>\n",
       "      <td>01-01-1984</td>\n",
       "      <td>Salaried</td>\n",
       "      <td>03-08-2018</td>\n",
       "      <td>No Bureau History Available</td>\n",
       "      <td>0yrs 0mon</td>\n",
       "      <td>0yrs 0mon</td>\n",
       "    </tr>\n",
       "    <tr>\n",
       "      <th>1</th>\n",
       "      <td>31-07-1985</td>\n",
       "      <td>Self employed</td>\n",
       "      <td>26-09-2018</td>\n",
       "      <td>I-Medium Risk</td>\n",
       "      <td>1yrs 11mon</td>\n",
       "      <td>1yrs 11mon</td>\n",
       "    </tr>\n",
       "  </tbody>\n",
       "</table>\n",
       "</div>"
      ],
      "text/plain": [
       "  DATE_OF_BIRTH EMPLOYMENT_TYPE DISBURSAL_DATE PERFORM_CNS_SCORE_DESCRIPTION  \\\n",
       "0    01-01-1984        Salaried     03-08-2018   No Bureau History Available   \n",
       "1    31-07-1985   Self employed     26-09-2018                 I-Medium Risk   \n",
       "\n",
       "  AVERAGE_ACCT_AGE CREDIT_HISTORY_LENGTH  \n",
       "0        0yrs 0mon             0yrs 0mon  \n",
       "1       1yrs 11mon            1yrs 11mon  "
      ]
     },
     "execution_count": 6,
     "metadata": {},
     "output_type": "execute_result"
    }
   ],
   "source": [
    "# look at object columns\n",
    "df.loc[:, df.dtypes == 'object'].head(2)"
   ]
  },
  {
   "cell_type": "markdown",
   "id": "0bfd0aa4",
   "metadata": {},
   "source": [
    "We see that we can convert all these columns into numeric type by:\n",
    "\n",
    "- calculating age of borrowers based on `DATE_OF_BIRTH`\n",
    "- OneHotEncoding `EMPLOYMENT_TYPE`\n",
    "- extracting `DISBURSAL_DATE` to 3 columms: `DISBURSAL_YEAR`, `DISBURSAL_MONTH`, and `DISBURSAL_DAY`\n",
    "- ordinal mapping `PERFORM_CNS_SCORE_DESCRIPTION`\n",
    "- converting `AVERAGE_ACCT_AGE` and `CREDIT_HISTORY_LENGTH` to the number of months."
   ]
  },
  {
   "cell_type": "markdown",
   "id": "2fb18ab0",
   "metadata": {},
   "source": [
    "## 2. Checking duplicates and NaN values <a class=\"anchor\" id=\"nn\"></a>"
   ]
  },
  {
   "cell_type": "code",
   "execution_count": 7,
   "id": "0f24c648",
   "metadata": {},
   "outputs": [],
   "source": [
    "# check duplicated rows\n",
    "df.duplicated().sum()"
   ]
  },
  {
   "cell_type": "code",
   "execution_count": 8,
   "id": "253926fe",
   "metadata": {
    "scrolled": true
   },
   "outputs": [],
   "source": [
    "# check duplicated columns\n",
    "df.T.duplicated().sum()"
   ]
  },
  {
   "cell_type": "code",
   "execution_count": 9,
   "id": "267cf418",
   "metadata": {},
   "outputs": [],
   "source": [
    "# check NaN values\n",
    "df.isna().sum()"
   ]
  },
  {
   "cell_type": "markdown",
   "id": "00cb726b",
   "metadata": {},
   "source": [
    "There are no duplicates but **7661** NaN values in column `EMPLOYMENT_TYPE`, let's look at the categories it carries."
   ]
  },
  {
   "cell_type": "code",
   "execution_count": 10,
   "id": "ad96edb9",
   "metadata": {
    "scrolled": false
   },
   "outputs": [
    {
     "data": {
      "text/plain": [
       "Self employed    127635\n",
       "Salaried          97858\n",
       "Name: EMPLOYMENT_TYPE, dtype: int64"
      ]
     },
     "execution_count": 10,
     "metadata": {},
     "output_type": "execute_result"
    }
   ],
   "source": [
    "df['EMPLOYMENT_TYPE'].value_counts()"
   ]
  },
  {
   "cell_type": "code",
   "execution_count": 11,
   "id": "834015a5",
   "metadata": {
    "scrolled": true
   },
   "outputs": [],
   "source": [
    "# Let's replace NaN by Unknown\n",
    "df['EMPLOYMENT_TYPE'] = df['EMPLOYMENT_TYPE'].fillna('Unknown')"
   ]
  },
  {
   "cell_type": "code",
   "execution_count": 12,
   "id": "e80f396a",
   "metadata": {
    "scrolled": true
   },
   "outputs": [
    {
     "data": {
      "text/plain": [
       "Self employed    127635\n",
       "Salaried          97858\n",
       "Unknown            7661\n",
       "Name: EMPLOYMENT_TYPE, dtype: int64"
      ]
     },
     "execution_count": 12,
     "metadata": {},
     "output_type": "execute_result"
    }
   ],
   "source": [
    "# Sanity check\n",
    "df['EMPLOYMENT_TYPE'].value_counts()"
   ]
  },
  {
   "cell_type": "markdown",
   "id": "977a244c",
   "metadata": {},
   "source": [
    "# Train/Test Split  <a class=\"anchor\" id=\"split\"></a>"
   ]
  },
  {
   "cell_type": "code",
   "execution_count": 13,
   "id": "4b755d0c",
   "metadata": {},
   "outputs": [],
   "source": [
    "X=df.drop(columns='LOAN_DEFAULT')\n",
    "y=df['LOAN_DEFAULT']\n",
    "X_train, X_test, y_train, y_test = train_test_split(X, y, test_size=0.25, stratify=y, random_state=1)"
   ]
  },
  {
   "cell_type": "markdown",
   "id": "49414920",
   "metadata": {},
   "source": [
    "# Data Transformation  <a class=\"anchor\" id=\"transform\"></a>"
   ]
  },
  {
   "cell_type": "markdown",
   "id": "76c7bb2a",
   "metadata": {},
   "source": [
    "## 1. Ordinally mapping `PERFORM_CNS_SCORE_DESCRIPTION` <a class=\"anchor\" id=\"ordinal\"></a>"
   ]
  },
  {
   "cell_type": "markdown",
   "id": "3bc919de",
   "metadata": {},
   "source": [
    "`PERFORM_CNS_SCORE_DESCRIPTION` will be ordinally mapped for the entire dataset for the sake of exploratory data analysis and clustering. They will be kept as is in the train and test sets so that they will be transformed in the pipeline later."
   ]
  },
  {
   "cell_type": "code",
   "execution_count": 14,
   "id": "64bbaa53",
   "metadata": {
    "scrolled": true
   },
   "outputs": [
    {
     "data": {
      "text/html": [
       "<div>\n",
       "<style scoped>\n",
       "    .dataframe tbody tr th:only-of-type {\n",
       "        vertical-align: middle;\n",
       "    }\n",
       "\n",
       "    .dataframe tbody tr th {\n",
       "        vertical-align: top;\n",
       "    }\n",
       "\n",
       "    .dataframe thead th {\n",
       "        text-align: right;\n",
       "    }\n",
       "</style>\n",
       "<table border=\"1\" class=\"dataframe\">\n",
       "  <thead>\n",
       "    <tr style=\"text-align: right;\">\n",
       "      <th></th>\n",
       "      <th>min</th>\n",
       "      <th>max</th>\n",
       "    </tr>\n",
       "    <tr>\n",
       "      <th>PERFORM_CNS_SCORE_DESCRIPTION</th>\n",
       "      <th></th>\n",
       "      <th></th>\n",
       "    </tr>\n",
       "  </thead>\n",
       "  <tbody>\n",
       "    <tr>\n",
       "      <th>A-Very Low Risk</th>\n",
       "      <td>806</td>\n",
       "      <td>890</td>\n",
       "    </tr>\n",
       "    <tr>\n",
       "      <th>B-Very Low Risk</th>\n",
       "      <td>761</td>\n",
       "      <td>805</td>\n",
       "    </tr>\n",
       "    <tr>\n",
       "      <th>C-Very Low Risk</th>\n",
       "      <td>736</td>\n",
       "      <td>760</td>\n",
       "    </tr>\n",
       "    <tr>\n",
       "      <th>D-Very Low Risk</th>\n",
       "      <td>706</td>\n",
       "      <td>735</td>\n",
       "    </tr>\n",
       "    <tr>\n",
       "      <th>E-Low Risk</th>\n",
       "      <td>681</td>\n",
       "      <td>705</td>\n",
       "    </tr>\n",
       "    <tr>\n",
       "      <th>F-Low Risk</th>\n",
       "      <td>651</td>\n",
       "      <td>680</td>\n",
       "    </tr>\n",
       "    <tr>\n",
       "      <th>G-Low Risk</th>\n",
       "      <td>631</td>\n",
       "      <td>650</td>\n",
       "    </tr>\n",
       "    <tr>\n",
       "      <th>H-Medium Risk</th>\n",
       "      <td>601</td>\n",
       "      <td>630</td>\n",
       "    </tr>\n",
       "    <tr>\n",
       "      <th>I-Medium Risk</th>\n",
       "      <td>571</td>\n",
       "      <td>600</td>\n",
       "    </tr>\n",
       "    <tr>\n",
       "      <th>J-High Risk</th>\n",
       "      <td>521</td>\n",
       "      <td>570</td>\n",
       "    </tr>\n",
       "    <tr>\n",
       "      <th>K-High Risk</th>\n",
       "      <td>351</td>\n",
       "      <td>520</td>\n",
       "    </tr>\n",
       "    <tr>\n",
       "      <th>L-Very High Risk</th>\n",
       "      <td>301</td>\n",
       "      <td>350</td>\n",
       "    </tr>\n",
       "    <tr>\n",
       "      <th>M-Very High Risk</th>\n",
       "      <td>300</td>\n",
       "      <td>300</td>\n",
       "    </tr>\n",
       "    <tr>\n",
       "      <th>No Bureau History Available</th>\n",
       "      <td>0</td>\n",
       "      <td>0</td>\n",
       "    </tr>\n",
       "    <tr>\n",
       "      <th>Not Scored: More than 50 active Accounts found</th>\n",
       "      <td>11</td>\n",
       "      <td>11</td>\n",
       "    </tr>\n",
       "    <tr>\n",
       "      <th>Not Scored: No Activity seen on the customer (Inactive)</th>\n",
       "      <td>16</td>\n",
       "      <td>16</td>\n",
       "    </tr>\n",
       "    <tr>\n",
       "      <th>Not Scored: No Updates available in last 36 months</th>\n",
       "      <td>18</td>\n",
       "      <td>18</td>\n",
       "    </tr>\n",
       "    <tr>\n",
       "      <th>Not Scored: Not Enough Info available on the customer</th>\n",
       "      <td>17</td>\n",
       "      <td>17</td>\n",
       "    </tr>\n",
       "    <tr>\n",
       "      <th>Not Scored: Only a Guarantor</th>\n",
       "      <td>14</td>\n",
       "      <td>14</td>\n",
       "    </tr>\n",
       "    <tr>\n",
       "      <th>Not Scored: Sufficient History Not Available</th>\n",
       "      <td>15</td>\n",
       "      <td>15</td>\n",
       "    </tr>\n",
       "  </tbody>\n",
       "</table>\n",
       "</div>"
      ],
      "text/plain": [
       "                                                    min  max\n",
       "PERFORM_CNS_SCORE_DESCRIPTION                               \n",
       "A-Very Low Risk                                     806  890\n",
       "B-Very Low Risk                                     761  805\n",
       "C-Very Low Risk                                     736  760\n",
       "D-Very Low Risk                                     706  735\n",
       "E-Low Risk                                          681  705\n",
       "F-Low Risk                                          651  680\n",
       "G-Low Risk                                          631  650\n",
       "H-Medium Risk                                       601  630\n",
       "I-Medium Risk                                       571  600\n",
       "J-High Risk                                         521  570\n",
       "K-High Risk                                         351  520\n",
       "L-Very High Risk                                    301  350\n",
       "M-Very High Risk                                    300  300\n",
       "No Bureau History Available                           0    0\n",
       "Not Scored: More than 50 active Accounts found       11   11\n",
       "Not Scored: No Activity seen on the customer (I...   16   16\n",
       "Not Scored: No Updates available in last 36 months   18   18\n",
       "Not Scored: Not Enough Info available on the cu...   17   17\n",
       "Not Scored: Only a Guarantor                         14   14\n",
       "Not Scored: Sufficient History Not Available         15   15"
      ]
     },
     "execution_count": 14,
     "metadata": {},
     "output_type": "execute_result"
    }
   ],
   "source": [
    "df.groupby('PERFORM_CNS_SCORE_DESCRIPTION')['PERFORM_CNS_SCORE'].agg(['min', 'max'])"
   ]
  },
  {
   "cell_type": "markdown",
   "id": "19d260a7",
   "metadata": {},
   "source": [
    "Look at the *risk* groups."
   ]
  },
  {
   "cell_type": "code",
   "execution_count": 15,
   "id": "a62cb920",
   "metadata": {
    "scrolled": true
   },
   "outputs": [
    {
     "data": {
      "text/plain": [
       "<AxesSubplot:xlabel='PERFORM_CNS_SCORE', ylabel='PERFORM_CNS_SCORE_DESCRIPTION'>"
      ]
     },
     "execution_count": 15,
     "metadata": {},
     "output_type": "execute_result"
    },
    {
     "data": {
      "image/png": "[encoded data removed]",
      "text/plain": [
       "<Figure size 640x480 with 1 Axes>"
      ]
     },
     "metadata": {},
     "output_type": "display_data"
    }
   ],
   "source": [
    "df1=df.where(df['PERFORM_CNS_SCORE_DESCRIPTION'].str[:1]!='N')\n",
    "b=df1['PERFORM_CNS_SCORE_DESCRIPTION'].sort_values()\n",
    "sns.boxplot(y=b, x='PERFORM_CNS_SCORE', data=df1, orient='h')"
   ]
  },
  {
   "cell_type": "markdown",
   "id": "412f38c1",
   "metadata": {},
   "source": [
    "We can see that **0** CNS score is classified as `No Bureau History Available` and scores ranging from **11-18** are labeled as `Not Scored`. And the dataset is granually categorizing the CNS score, i.e within `Very Low Risk` group, there are 4 subgroups A, B, C, D. However, there is no extra information, compared to `Not Scored`, decribing why borrowers are put into these subgroups. Therefore, I would condense those groups that have similar risk type together and map them to their weight of risk, i.e. out of 7 groups, `Very Low Risk` groups have highest CNS score, so they are mapped with the value of **6**."
   ]
  },
  {
   "cell_type": "code",
   "execution_count": 16,
   "id": "9b18aa13",
   "metadata": {
    "scrolled": true
   },
   "outputs": [
    {
     "data": {
      "text/plain": [
       "No Bureau History Available                                116950\n",
       "C-Very Low Risk                                             16045\n",
       "A-Very Low Risk                                             14124\n",
       "D-Very Low Risk                                             11358\n",
       "B-Very Low Risk                                              9201\n",
       "M-Very High Risk                                             8776\n",
       "F-Low Risk                                                   8485\n",
       "K-High Risk                                                  8277\n",
       "H-Medium Risk                                                6855\n",
       "E-Low Risk                                                   5821\n",
       "I-Medium Risk                                                5557\n",
       "G-Low Risk                                                   3988\n",
       "Not Scored: Sufficient History Not Available                 3765\n",
       "J-High Risk                                                  3748\n",
       "Not Scored: Not Enough Info available on the customer        3672\n",
       "Not Scored: No Activity seen on the customer (Inactive)      2885\n",
       "Not Scored: No Updates available in last 36 months           1534\n",
       "L-Very High Risk                                             1134\n",
       "Not Scored: Only a Guarantor                                  976\n",
       "Not Scored: More than 50 active Accounts found                  3\n",
       "Name: PERFORM_CNS_SCORE_DESCRIPTION, dtype: int64"
      ]
     },
     "execution_count": 16,
     "metadata": {},
     "output_type": "execute_result"
    }
   ],
   "source": [
    "df['PERFORM_CNS_SCORE_DESCRIPTION'].value_counts()"
   ]
  },
  {
   "cell_type": "code",
   "execution_count": 17,
   "id": "21205233",
   "metadata": {},
   "outputs": [],
   "source": [
    "# map it\n",
    "mapping= {'No Bureau History Available':'0',\\\n",
    "        'Not Scored: Sufficient History Not Available': '1',\\\n",
    "        'Not Scored: Only a Guarantor':'1',\\\n",
    "        'Not Scored: Not Enough Info available on the customer':'1',\\\n",
    "        'Not Scored: No Updates available in last 36 months': '1',\\\n",
    "        'Not Scored: No Activity seen on the customer (Inactive)': '1',\\\n",
    "        'Not Scored: More than 50 active Accounts found': '1',\\\n",
    "        'L-Very High Risk': '2',\\\n",
    "        'M-Very High Risk': '2',\\\n",
    "        'J-High Risk': '3',\\\n",
    "        'K-High Risk': '3',\\\n",
    "        'H-Medium Risk': '4',\\\n",
    "        'I-Medium Risk': '4',\\\n",
    "        'E-Low Risk': '5',\\\n",
    "        'F-Low Risk': '5',\\\n",
    "        'G-Low Risk': '5',\\\n",
    "        'A-Very Low Risk': '6',\\\n",
    "        'B-Very Low Risk': '6',\\\n",
    "        'C-Very Low Risk': '6',\\\n",
    "        'D-Very Low Risk': '6'}\n",
    "\n",
    "df['PERFORM_CNS_SCORE_DESCRIPTION']=df['PERFORM_CNS_SCORE_DESCRIPTION'].map(mapping)"
   ]
  },
  {
   "cell_type": "code",
   "execution_count": 18,
   "id": "0d455a66",
   "metadata": {
    "scrolled": true
   },
   "outputs": [
    {
     "data": {
      "text/plain": [
       "0    116950\n",
       "6     50728\n",
       "5     18294\n",
       "1     12835\n",
       "4     12412\n",
       "3     12025\n",
       "2      9910\n",
       "Name: PERFORM_CNS_SCORE_DESCRIPTION, dtype: int64"
      ]
     },
     "execution_count": 18,
     "metadata": {},
     "output_type": "execute_result"
    }
   ],
   "source": [
    "# sanity check\n",
    "df['PERFORM_CNS_SCORE_DESCRIPTION'].value_counts()"
   ]
  },
  {
   "cell_type": "code",
   "execution_count": 19,
   "id": "4d2aa490",
   "metadata": {},
   "outputs": [
    {
     "name": "stdout",
     "output_type": "stream",
     "text": [
      "int64\n"
     ]
    }
   ],
   "source": [
    "# change datatype\n",
    "df['PERFORM_CNS_SCORE_DESCRIPTION']=df['PERFORM_CNS_SCORE_DESCRIPTION'].astype(int)\n",
    "\n",
    "# sanity check\n",
    "print(df['PERFORM_CNS_SCORE_DESCRIPTION'].dtype)"
   ]
  },
  {
   "cell_type": "markdown",
   "id": "771fa812",
   "metadata": {},
   "source": [
    "## 2. Extracting `DISBURSAL_DATE` to `DISBURSAL_YEAR`, `DISBURSAL_MONTH`, `DISBURSAL_DAY`  <a class=\"anchor\" id=\"disbursal\"></a>"
   ]
  },
  {
   "cell_type": "code",
   "execution_count": 24,
   "id": "cbc9ab20",
   "metadata": {},
   "outputs": [
    {
     "data": {
      "text/html": [
       "<div>\n",
       "<style scoped>\n",
       "    .dataframe tbody tr th:only-of-type {\n",
       "        vertical-align: middle;\n",
       "    }\n",
       "\n",
       "    .dataframe tbody tr th {\n",
       "        vertical-align: top;\n",
       "    }\n",
       "\n",
       "    .dataframe thead th {\n",
       "        text-align: right;\n",
       "    }\n",
       "</style>\n",
       "<table border=\"1\" class=\"dataframe\">\n",
       "  <thead>\n",
       "    <tr style=\"text-align: right;\">\n",
       "      <th></th>\n",
       "      <th>DISBURSAL_DATE</th>\n",
       "    </tr>\n",
       "  </thead>\n",
       "  <tbody>\n",
       "    <tr>\n",
       "      <th>0</th>\n",
       "      <td>03-08-2018</td>\n",
       "    </tr>\n",
       "    <tr>\n",
       "      <th>1</th>\n",
       "      <td>26-09-2018</td>\n",
       "    </tr>\n",
       "    <tr>\n",
       "      <th>2</th>\n",
       "      <td>01-08-2018</td>\n",
       "    </tr>\n",
       "    <tr>\n",
       "      <th>3</th>\n",
       "      <td>26-10-2018</td>\n",
       "    </tr>\n",
       "    <tr>\n",
       "      <th>4</th>\n",
       "      <td>26-09-2018</td>\n",
       "    </tr>\n",
       "  </tbody>\n",
       "</table>\n",
       "</div>"
      ],
      "text/plain": [
       "  DISBURSAL_DATE\n",
       "0     03-08-2018\n",
       "1     26-09-2018\n",
       "2     01-08-2018\n",
       "3     26-10-2018\n",
       "4     26-09-2018"
      ]
     },
     "execution_count": 24,
     "metadata": {},
     "output_type": "execute_result"
    }
   ],
   "source": [
    "df[['DISBURSAL_DATE']].head()"
   ]
  },
  {
   "cell_type": "code",
   "execution_count": 25,
   "id": "77207722",
   "metadata": {
    "scrolled": true
   },
   "outputs": [
    {
     "data": {
      "text/html": [
       "<div>\n",
       "<style scoped>\n",
       "    .dataframe tbody tr th:only-of-type {\n",
       "        vertical-align: middle;\n",
       "    }\n",
       "\n",
       "    .dataframe tbody tr th {\n",
       "        vertical-align: top;\n",
       "    }\n",
       "\n",
       "    .dataframe thead th {\n",
       "        text-align: right;\n",
       "    }\n",
       "</style>\n",
       "<table border=\"1\" class=\"dataframe\">\n",
       "  <thead>\n",
       "    <tr style=\"text-align: right;\">\n",
       "      <th></th>\n",
       "      <th>NO_OF_INQUIRIES</th>\n",
       "      <th>LOAN_DEFAULT</th>\n",
       "      <th>DISBURSAL_YEAR</th>\n",
       "      <th>DISBURSAL_MONTH</th>\n",
       "      <th>DISBURSAL_DAY</th>\n",
       "    </tr>\n",
       "  </thead>\n",
       "  <tbody>\n",
       "    <tr>\n",
       "      <th>0</th>\n",
       "      <td>0</td>\n",
       "      <td>0</td>\n",
       "      <td>2018</td>\n",
       "      <td>3</td>\n",
       "      <td>8</td>\n",
       "    </tr>\n",
       "    <tr>\n",
       "      <th>1</th>\n",
       "      <td>0</td>\n",
       "      <td>1</td>\n",
       "      <td>2018</td>\n",
       "      <td>9</td>\n",
       "      <td>26</td>\n",
       "    </tr>\n",
       "    <tr>\n",
       "      <th>2</th>\n",
       "      <td>0</td>\n",
       "      <td>0</td>\n",
       "      <td>2018</td>\n",
       "      <td>1</td>\n",
       "      <td>8</td>\n",
       "    </tr>\n",
       "  </tbody>\n",
       "</table>\n",
       "</div>"
      ],
      "text/plain": [
       "   NO_OF_INQUIRIES  LOAN_DEFAULT  DISBURSAL_YEAR  DISBURSAL_MONTH  \\\n",
       "0                0             0            2018                3   \n",
       "1                0             1            2018                9   \n",
       "2                0             0            2018                1   \n",
       "\n",
       "   DISBURSAL_DAY  \n",
       "0              8  \n",
       "1             26  \n",
       "2              8  "
      ]
     },
     "execution_count": 25,
     "metadata": {},
     "output_type": "execute_result"
    }
   ],
   "source": [
    "# change datatype\n",
    "df['DISBURSAL_DATE']=df['DISBURSAL_DATE'].astype('datetime64')\n",
    "\n",
    "# extract to year, month, day\n",
    "df['DISBURSAL_YEAR'] = df['DISBURSAL_DATE'].dt.year\n",
    "df['DISBURSAL_MONTH'] = df['DISBURSAL_DATE'].dt.month\n",
    "df['DISBURSAL_DAY'] = df['DISBURSAL_DATE'].dt.day\n",
    "\n",
    "# show\n",
    "df.iloc[:,-5:].head(3)"
   ]
  },
  {
   "cell_type": "code",
   "execution_count": 26,
   "id": "0ddb20d8",
   "metadata": {
    "scrolled": true
   },
   "outputs": [],
   "source": [
    "# create a function to check columns dropped\n",
    "def check_drop(df, columns):\n",
    "    '''\n",
    "    check if columns are successfully dropped\n",
    "    \n",
    "    INPUTS:\n",
    "        df - dataframe\n",
    "        columns - list of columns need checking\n",
    "    \n",
    "    OUTPUTS:\n",
    "        string - an answer if columns are dropped\n",
    "        \n",
    "    EXAMPLE USAGE:\n",
    "    >>check_drop(df,['a'])\n",
    "    >> Yes, successfully dropped.\n",
    "    \n",
    "    '''\n",
    "    assert isinstance(df, pd.DataFrame), 'df must be a dataframe'\n",
    "    assert isinstance(columns, list), 'col must be a list of columns'\n",
    "    \n",
    "    if(all(i in df for i in columns)):\n",
    "        print('Still exists!')\n",
    "    else:\n",
    "        print('Yes, successfully dropped.')"
   ]
  },
  {
   "cell_type": "code",
   "execution_count": 27,
   "id": "8b0c81df",
   "metadata": {},
   "outputs": [
    {
     "name": "stdout",
     "output_type": "stream",
     "text": [
      "Yes, successfully dropped.\n"
     ]
    }
   ],
   "source": [
    "# drop DISBURSAL_DATE\n",
    "df.drop(columns='DISBURSAL_DATE', inplace=True)\n",
    "\n",
    "# sanity check \n",
    "check_drop(df,['DISBURSAL_DATE'])"
   ]
  },
  {
   "cell_type": "code",
   "execution_count": 28,
   "id": "9340575b",
   "metadata": {},
   "outputs": [
    {
     "name": "stdout",
     "output_type": "stream",
     "text": [
      "int64 int64 int64\n"
     ]
    }
   ],
   "source": [
    "# sanity check\n",
    "print(df['DISBURSAL_YEAR'].dtype,\\\n",
    "      df['DISBURSAL_MONTH'].dtype,\\\n",
    "      df['DISBURSAL_DAY'].dtype)"
   ]
  },
  {
   "cell_type": "markdown",
   "id": "d8eaed30",
   "metadata": {},
   "source": [
    "### Train set"
   ]
  },
  {
   "cell_type": "code",
   "execution_count": 29,
   "id": "ee6048e3",
   "metadata": {
    "scrolled": false
   },
   "outputs": [
    {
     "data": {
      "text/html": [
       "<div>\n",
       "<style scoped>\n",
       "    .dataframe tbody tr th:only-of-type {\n",
       "        vertical-align: middle;\n",
       "    }\n",
       "\n",
       "    .dataframe tbody tr th {\n",
       "        vertical-align: top;\n",
       "    }\n",
       "\n",
       "    .dataframe thead th {\n",
       "        text-align: right;\n",
       "    }\n",
       "</style>\n",
       "<table border=\"1\" class=\"dataframe\">\n",
       "  <thead>\n",
       "    <tr style=\"text-align: right;\">\n",
       "      <th></th>\n",
       "      <th>DISBURSAL_DATE</th>\n",
       "    </tr>\n",
       "  </thead>\n",
       "  <tbody>\n",
       "    <tr>\n",
       "      <th>23657</th>\n",
       "      <td>12-09-2018</td>\n",
       "    </tr>\n",
       "    <tr>\n",
       "      <th>208842</th>\n",
       "      <td>15-09-2018</td>\n",
       "    </tr>\n",
       "    <tr>\n",
       "      <th>78878</th>\n",
       "      <td>03-10-2018</td>\n",
       "    </tr>\n",
       "    <tr>\n",
       "      <th>75546</th>\n",
       "      <td>28-08-2018</td>\n",
       "    </tr>\n",
       "    <tr>\n",
       "      <th>33972</th>\n",
       "      <td>30-08-2018</td>\n",
       "    </tr>\n",
       "  </tbody>\n",
       "</table>\n",
       "</div>"
      ],
      "text/plain": [
       "       DISBURSAL_DATE\n",
       "23657      12-09-2018\n",
       "208842     15-09-2018\n",
       "78878      03-10-2018\n",
       "75546      28-08-2018\n",
       "33972      30-08-2018"
      ]
     },
     "execution_count": 29,
     "metadata": {},
     "output_type": "execute_result"
    }
   ],
   "source": [
    "X_train[['DISBURSAL_DATE']].head()"
   ]
  },
  {
   "cell_type": "code",
   "execution_count": 30,
   "id": "4acca301",
   "metadata": {
    "scrolled": true
   },
   "outputs": [
    {
     "name": "stdout",
     "output_type": "stream",
     "text": [
      "Yes, successfully dropped.\n"
     ]
    }
   ],
   "source": [
    "# change datatype\n",
    "X_train['DISBURSAL_DATE']=X_train['DISBURSAL_DATE'].astype('datetime64')\n",
    "\n",
    "# extract to year, month, day\n",
    "X_train['DISBURSAL_YEAR'] = X_train['DISBURSAL_DATE'].dt.year\n",
    "X_train['DISBURSAL_MONTH'] = X_train['DISBURSAL_DATE'].dt.month\n",
    "X_train['DISBURSAL_DAY'] = X_train['DISBURSAL_DATE'].dt.day\n",
    "\n",
    "# drop\n",
    "X_train.drop(columns='DISBURSAL_DATE', inplace=True)\n",
    "\n",
    "# sanity check \n",
    "check_drop(X_train,['DISBURSAL_DATE'])"
   ]
  },
  {
   "cell_type": "code",
   "execution_count": 31,
   "id": "fbb09755",
   "metadata": {
    "scrolled": true
   },
   "outputs": [
    {
     "data": {
      "text/html": [
       "<div>\n",
       "<style scoped>\n",
       "    .dataframe tbody tr th:only-of-type {\n",
       "        vertical-align: middle;\n",
       "    }\n",
       "\n",
       "    .dataframe tbody tr th {\n",
       "        vertical-align: top;\n",
       "    }\n",
       "\n",
       "    .dataframe thead th {\n",
       "        text-align: right;\n",
       "    }\n",
       "</style>\n",
       "<table border=\"1\" class=\"dataframe\">\n",
       "  <thead>\n",
       "    <tr style=\"text-align: right;\">\n",
       "      <th></th>\n",
       "      <th>CREDIT_HISTORY_LENGTH</th>\n",
       "      <th>NO_OF_INQUIRIES</th>\n",
       "      <th>DISBURSAL_YEAR</th>\n",
       "      <th>DISBURSAL_MONTH</th>\n",
       "      <th>DISBURSAL_DAY</th>\n",
       "    </tr>\n",
       "  </thead>\n",
       "  <tbody>\n",
       "    <tr>\n",
       "      <th>23657</th>\n",
       "      <td>0yrs 7mon</td>\n",
       "      <td>2</td>\n",
       "      <td>2018</td>\n",
       "      <td>12</td>\n",
       "      <td>9</td>\n",
       "    </tr>\n",
       "    <tr>\n",
       "      <th>208842</th>\n",
       "      <td>0yrs 0mon</td>\n",
       "      <td>0</td>\n",
       "      <td>2018</td>\n",
       "      <td>9</td>\n",
       "      <td>15</td>\n",
       "    </tr>\n",
       "  </tbody>\n",
       "</table>\n",
       "</div>"
      ],
      "text/plain": [
       "       CREDIT_HISTORY_LENGTH  NO_OF_INQUIRIES  DISBURSAL_YEAR  \\\n",
       "23657              0yrs 7mon                2            2018   \n",
       "208842             0yrs 0mon                0            2018   \n",
       "\n",
       "        DISBURSAL_MONTH  DISBURSAL_DAY  \n",
       "23657                12              9  \n",
       "208842                9             15  "
      ]
     },
     "execution_count": 31,
     "metadata": {},
     "output_type": "execute_result"
    }
   ],
   "source": [
    "X_train.iloc[:,-5:].head(2)"
   ]
  },
  {
   "cell_type": "code",
   "execution_count": 32,
   "id": "d492e385",
   "metadata": {},
   "outputs": [
    {
     "name": "stdout",
     "output_type": "stream",
     "text": [
      "int64 int64 int64\n"
     ]
    }
   ],
   "source": [
    "# sanity check\n",
    "print(X_train['DISBURSAL_YEAR'].dtype,\\\n",
    "      X_train['DISBURSAL_MONTH'].dtype,\\\n",
    "      X_train['DISBURSAL_DAY'].dtype)"
   ]
  },
  {
   "cell_type": "markdown",
   "id": "1ef80bbb",
   "metadata": {},
   "source": [
    "### Test set"
   ]
  },
  {
   "cell_type": "code",
   "execution_count": 33,
   "id": "3ba84cd3",
   "metadata": {},
   "outputs": [
    {
     "data": {
      "text/html": [
       "<div>\n",
       "<style scoped>\n",
       "    .dataframe tbody tr th:only-of-type {\n",
       "        vertical-align: middle;\n",
       "    }\n",
       "\n",
       "    .dataframe tbody tr th {\n",
       "        vertical-align: top;\n",
       "    }\n",
       "\n",
       "    .dataframe thead th {\n",
       "        text-align: right;\n",
       "    }\n",
       "</style>\n",
       "<table border=\"1\" class=\"dataframe\">\n",
       "  <thead>\n",
       "    <tr style=\"text-align: right;\">\n",
       "      <th></th>\n",
       "      <th>DISBURSAL_DATE</th>\n",
       "    </tr>\n",
       "  </thead>\n",
       "  <tbody>\n",
       "    <tr>\n",
       "      <th>181843</th>\n",
       "      <td>14-09-2018</td>\n",
       "    </tr>\n",
       "    <tr>\n",
       "      <th>35593</th>\n",
       "      <td>14-09-2018</td>\n",
       "    </tr>\n",
       "    <tr>\n",
       "      <th>202630</th>\n",
       "      <td>03-10-2018</td>\n",
       "    </tr>\n",
       "    <tr>\n",
       "      <th>39014</th>\n",
       "      <td>08-10-2018</td>\n",
       "    </tr>\n",
       "    <tr>\n",
       "      <th>32349</th>\n",
       "      <td>22-10-2018</td>\n",
       "    </tr>\n",
       "  </tbody>\n",
       "</table>\n",
       "</div>"
      ],
      "text/plain": [
       "       DISBURSAL_DATE\n",
       "181843     14-09-2018\n",
       "35593      14-09-2018\n",
       "202630     03-10-2018\n",
       "39014      08-10-2018\n",
       "32349      22-10-2018"
      ]
     },
     "execution_count": 33,
     "metadata": {},
     "output_type": "execute_result"
    }
   ],
   "source": [
    "X_test[['DISBURSAL_DATE']].head()"
   ]
  },
  {
   "cell_type": "code",
   "execution_count": 34,
   "id": "a33e3a97",
   "metadata": {},
   "outputs": [
    {
     "name": "stdout",
     "output_type": "stream",
     "text": [
      "Yes, successfully dropped.\n"
     ]
    }
   ],
   "source": [
    "# change datatype\n",
    "X_test['DISBURSAL_DATE']=X_test['DISBURSAL_DATE'].astype('datetime64')\n",
    "\n",
    "# transform the test set\n",
    "X_test['DISBURSAL_YEAR'] = X_test['DISBURSAL_DATE'].dt.year\n",
    "X_test['DISBURSAL_MONTH'] = X_test['DISBURSAL_DATE'].dt.month\n",
    "X_test['DISBURSAL_DAY'] = X_test['DISBURSAL_DATE'].dt.day\n",
    "\n",
    "# drop\n",
    "X_test.drop(columns='DISBURSAL_DATE', inplace=True)\n",
    "\n",
    "# sanity check \n",
    "check_drop(X_test,['DISBURSAL_DATE'])"
   ]
  },
  {
   "cell_type": "code",
   "execution_count": 35,
   "id": "3f80abda",
   "metadata": {
    "scrolled": true
   },
   "outputs": [
    {
     "data": {
      "text/html": [
       "<div>\n",
       "<style scoped>\n",
       "    .dataframe tbody tr th:only-of-type {\n",
       "        vertical-align: middle;\n",
       "    }\n",
       "\n",
       "    .dataframe tbody tr th {\n",
       "        vertical-align: top;\n",
       "    }\n",
       "\n",
       "    .dataframe thead th {\n",
       "        text-align: right;\n",
       "    }\n",
       "</style>\n",
       "<table border=\"1\" class=\"dataframe\">\n",
       "  <thead>\n",
       "    <tr style=\"text-align: right;\">\n",
       "      <th></th>\n",
       "      <th>CREDIT_HISTORY_LENGTH</th>\n",
       "      <th>NO_OF_INQUIRIES</th>\n",
       "      <th>DISBURSAL_YEAR</th>\n",
       "      <th>DISBURSAL_MONTH</th>\n",
       "      <th>DISBURSAL_DAY</th>\n",
       "    </tr>\n",
       "  </thead>\n",
       "  <tbody>\n",
       "    <tr>\n",
       "      <th>181843</th>\n",
       "      <td>0yrs 0mon</td>\n",
       "      <td>0</td>\n",
       "      <td>2018</td>\n",
       "      <td>9</td>\n",
       "      <td>14</td>\n",
       "    </tr>\n",
       "    <tr>\n",
       "      <th>35593</th>\n",
       "      <td>0yrs 0mon</td>\n",
       "      <td>1</td>\n",
       "      <td>2018</td>\n",
       "      <td>9</td>\n",
       "      <td>14</td>\n",
       "    </tr>\n",
       "  </tbody>\n",
       "</table>\n",
       "</div>"
      ],
      "text/plain": [
       "       CREDIT_HISTORY_LENGTH  NO_OF_INQUIRIES  DISBURSAL_YEAR  \\\n",
       "181843             0yrs 0mon                0            2018   \n",
       "35593              0yrs 0mon                1            2018   \n",
       "\n",
       "        DISBURSAL_MONTH  DISBURSAL_DAY  \n",
       "181843                9             14  \n",
       "35593                 9             14  "
      ]
     },
     "execution_count": 35,
     "metadata": {},
     "output_type": "execute_result"
    }
   ],
   "source": [
    "X_test.iloc[:,-5:].head(2)"
   ]
  },
  {
   "cell_type": "code",
   "execution_count": 36,
   "id": "572f3799",
   "metadata": {},
   "outputs": [
    {
     "name": "stdout",
     "output_type": "stream",
     "text": [
      "int64 int64 int64\n"
     ]
    }
   ],
   "source": [
    "# sanity check\n",
    "print(X_test['DISBURSAL_YEAR'].dtype,\\\n",
    "      X_test['DISBURSAL_MONTH'].dtype,\\\n",
    "      X_test['DISBURSAL_DAY'].dtype)"
   ]
  },
  {
   "cell_type": "markdown",
   "id": "8f342a1c",
   "metadata": {
    "scrolled": true
   },
   "source": [
    "## 3. OneHotEncoding for `EMPLOYMENT_TYPE`  <a class=\"anchor\" id=\"employment\"></a>"
   ]
  },
  {
   "cell_type": "markdown",
   "id": "3aa4ae2c",
   "metadata": {},
   "source": [
    "`EMPLOYMENT_TYPE` will be coded for the entire dataset for the sake of exploratory data analysis and clustering. They will be kept as is in the train and test sets so that they will be transformed in the pipeline later."
   ]
  },
  {
   "cell_type": "code",
   "execution_count": 37,
   "id": "9593e646",
   "metadata": {},
   "outputs": [
    {
     "data": {
      "text/html": [
       "<div>\n",
       "<style scoped>\n",
       "    .dataframe tbody tr th:only-of-type {\n",
       "        vertical-align: middle;\n",
       "    }\n",
       "\n",
       "    .dataframe tbody tr th {\n",
       "        vertical-align: top;\n",
       "    }\n",
       "\n",
       "    .dataframe thead tr th {\n",
       "        text-align: left;\n",
       "    }\n",
       "</style>\n",
       "<table border=\"1\" class=\"dataframe\">\n",
       "  <thead>\n",
       "    <tr>\n",
       "      <th></th>\n",
       "      <th>Salaried</th>\n",
       "      <th>Self employed</th>\n",
       "      <th>Unknown</th>\n",
       "      <th>EMPLOYMENT_TYPE</th>\n",
       "    </tr>\n",
       "  </thead>\n",
       "  <tbody>\n",
       "    <tr>\n",
       "      <th>0</th>\n",
       "      <td>1</td>\n",
       "      <td>0</td>\n",
       "      <td>0</td>\n",
       "      <td>Salaried</td>\n",
       "    </tr>\n",
       "    <tr>\n",
       "      <th>1</th>\n",
       "      <td>0</td>\n",
       "      <td>1</td>\n",
       "      <td>0</td>\n",
       "      <td>Self employed</td>\n",
       "    </tr>\n",
       "    <tr>\n",
       "      <th>2</th>\n",
       "      <td>0</td>\n",
       "      <td>1</td>\n",
       "      <td>0</td>\n",
       "      <td>Self employed</td>\n",
       "    </tr>\n",
       "    <tr>\n",
       "      <th>3</th>\n",
       "      <td>0</td>\n",
       "      <td>1</td>\n",
       "      <td>0</td>\n",
       "      <td>Self employed</td>\n",
       "    </tr>\n",
       "    <tr>\n",
       "      <th>4</th>\n",
       "      <td>0</td>\n",
       "      <td>1</td>\n",
       "      <td>0</td>\n",
       "      <td>Self employed</td>\n",
       "    </tr>\n",
       "  </tbody>\n",
       "</table>\n",
       "</div>"
      ],
      "text/plain": [
       "  Salaried Self employed Unknown EMPLOYMENT_TYPE\n",
       "0        1             0       0        Salaried\n",
       "1        0             1       0   Self employed\n",
       "2        0             1       0   Self employed\n",
       "3        0             1       0   Self employed\n",
       "4        0             1       0   Self employed"
      ]
     },
     "execution_count": 37,
     "metadata": {},
     "output_type": "execute_result"
    }
   ],
   "source": [
    "from sklearn.preprocessing import OneHotEncoder\n",
    "\n",
    "# Instantiate the OneHotEncoder\n",
    "ohe = OneHotEncoder()\n",
    "\n",
    "# Fit the OneHotEncoder to EMPLOYMENT_TYPE and transform\n",
    "# It expects a 2D array, so we first convert the column into a DataFrame\n",
    "employment = pd.DataFrame(df['EMPLOYMENT_TYPE'])\n",
    "\n",
    "# fit & transform\n",
    "encoded = ohe.fit_transform(employment)\n",
    "\n",
    "# Convert from sparse matrix to dense\n",
    "dense_array = encoded.toarray()\n",
    "\n",
    "# Put into a dataframe to get column names\n",
    "encoded_df = pd.DataFrame(dense_array, columns=ohe.categories_, dtype=int)\n",
    "\n",
    "# Add original back in (just to check)\n",
    "encoded_df['EMPLOYMENT_TYPE'] = df['EMPLOYMENT_TYPE'].values\n",
    "\n",
    "# Show\n",
    "encoded_df.head()"
   ]
  },
  {
   "cell_type": "code",
   "execution_count": 38,
   "id": "d008924b",
   "metadata": {},
   "outputs": [
    {
     "name": "stdout",
     "output_type": "stream",
     "text": [
      "Yes, successfully dropped.\n"
     ]
    }
   ],
   "source": [
    "# drop Unknown and EMPLOYMENT_TYPE\n",
    "encoded_df.drop(columns=['Unknown','EMPLOYMENT_TYPE'],inplace=True)\n",
    "\n",
    "# sanity check\n",
    "check_drop(encoded_df,['Unknown','EMPLOYMENT_TYPE'])"
   ]
  },
  {
   "cell_type": "code",
   "execution_count": 39,
   "id": "2785c496",
   "metadata": {
    "scrolled": true
   },
   "outputs": [
    {
     "data": {
      "text/plain": [
       "MultiIndex([(     'Salaried',),\n",
       "            ('Self employed',)],\n",
       "           )"
      ]
     },
     "execution_count": 39,
     "metadata": {},
     "output_type": "execute_result"
    }
   ],
   "source": [
    "# check column names\n",
    "encoded_df.columns"
   ]
  },
  {
   "cell_type": "code",
   "execution_count": 40,
   "id": "179e316b",
   "metadata": {},
   "outputs": [
    {
     "data": {
      "text/html": [
       "<div>\n",
       "<style scoped>\n",
       "    .dataframe tbody tr th:only-of-type {\n",
       "        vertical-align: middle;\n",
       "    }\n",
       "\n",
       "    .dataframe tbody tr th {\n",
       "        vertical-align: top;\n",
       "    }\n",
       "\n",
       "    .dataframe thead th {\n",
       "        text-align: right;\n",
       "    }\n",
       "</style>\n",
       "<table border=\"1\" class=\"dataframe\">\n",
       "  <thead>\n",
       "    <tr style=\"text-align: right;\">\n",
       "      <th></th>\n",
       "      <th>EMPLOYMENT_TYPE_SALARIED</th>\n",
       "      <th>EMPLOYMENT_TYPE_SELF_EMPLOYED</th>\n",
       "    </tr>\n",
       "  </thead>\n",
       "  <tbody>\n",
       "    <tr>\n",
       "      <th>0</th>\n",
       "      <td>1</td>\n",
       "      <td>0</td>\n",
       "    </tr>\n",
       "    <tr>\n",
       "      <th>1</th>\n",
       "      <td>0</td>\n",
       "      <td>1</td>\n",
       "    </tr>\n",
       "  </tbody>\n",
       "</table>\n",
       "</div>"
      ],
      "text/plain": [
       "   EMPLOYMENT_TYPE_SALARIED  EMPLOYMENT_TYPE_SELF_EMPLOYED\n",
       "0                         1                              0\n",
       "1                         0                              1"
      ]
     },
     "execution_count": 40,
     "metadata": {},
     "output_type": "execute_result"
    }
   ],
   "source": [
    "# rename columns\n",
    "encoded_df.columns=['EMPLOYMENT_TYPE_SALARIED','EMPLOYMENT_TYPE_SELF_EMPLOYED']\n",
    "encoded_df.head(2)"
   ]
  },
  {
   "cell_type": "code",
   "execution_count": 41,
   "id": "6f1afde5",
   "metadata": {},
   "outputs": [
    {
     "data": {
      "text/html": [
       "<div>\n",
       "<style scoped>\n",
       "    .dataframe tbody tr th:only-of-type {\n",
       "        vertical-align: middle;\n",
       "    }\n",
       "\n",
       "    .dataframe tbody tr th {\n",
       "        vertical-align: top;\n",
       "    }\n",
       "\n",
       "    .dataframe thead th {\n",
       "        text-align: right;\n",
       "    }\n",
       "</style>\n",
       "<table border=\"1\" class=\"dataframe\">\n",
       "  <thead>\n",
       "    <tr style=\"text-align: right;\">\n",
       "      <th></th>\n",
       "      <th>DISBURSAL_YEAR</th>\n",
       "      <th>DISBURSAL_MONTH</th>\n",
       "      <th>DISBURSAL_DAY</th>\n",
       "      <th>EMPLOYMENT_TYPE_SALARIED</th>\n",
       "      <th>EMPLOYMENT_TYPE_SELF_EMPLOYED</th>\n",
       "    </tr>\n",
       "  </thead>\n",
       "  <tbody>\n",
       "    <tr>\n",
       "      <th>0</th>\n",
       "      <td>2018</td>\n",
       "      <td>3</td>\n",
       "      <td>8</td>\n",
       "      <td>1</td>\n",
       "      <td>0</td>\n",
       "    </tr>\n",
       "    <tr>\n",
       "      <th>1</th>\n",
       "      <td>2018</td>\n",
       "      <td>9</td>\n",
       "      <td>26</td>\n",
       "      <td>0</td>\n",
       "      <td>1</td>\n",
       "    </tr>\n",
       "    <tr>\n",
       "      <th>2</th>\n",
       "      <td>2018</td>\n",
       "      <td>1</td>\n",
       "      <td>8</td>\n",
       "      <td>0</td>\n",
       "      <td>1</td>\n",
       "    </tr>\n",
       "    <tr>\n",
       "      <th>3</th>\n",
       "      <td>2018</td>\n",
       "      <td>10</td>\n",
       "      <td>26</td>\n",
       "      <td>0</td>\n",
       "      <td>1</td>\n",
       "    </tr>\n",
       "    <tr>\n",
       "      <th>4</th>\n",
       "      <td>2018</td>\n",
       "      <td>9</td>\n",
       "      <td>26</td>\n",
       "      <td>0</td>\n",
       "      <td>1</td>\n",
       "    </tr>\n",
       "  </tbody>\n",
       "</table>\n",
       "</div>"
      ],
      "text/plain": [
       "   DISBURSAL_YEAR  DISBURSAL_MONTH  DISBURSAL_DAY  EMPLOYMENT_TYPE_SALARIED  \\\n",
       "0            2018                3              8                         1   \n",
       "1            2018                9             26                         0   \n",
       "2            2018                1              8                         0   \n",
       "3            2018               10             26                         0   \n",
       "4            2018                9             26                         0   \n",
       "\n",
       "   EMPLOYMENT_TYPE_SELF_EMPLOYED  \n",
       "0                              0  \n",
       "1                              1  \n",
       "2                              1  \n",
       "3                              1  \n",
       "4                              1  "
      ]
     },
     "execution_count": 41,
     "metadata": {},
     "output_type": "execute_result"
    }
   ],
   "source": [
    "# concatenate to original dataframe\n",
    "df.index=encoded_df.index\n",
    "df=pd.concat([df,encoded_df],axis=1)\n",
    "df.iloc[:,-5:].head()"
   ]
  },
  {
   "cell_type": "code",
   "execution_count": 42,
   "id": "670a5dda",
   "metadata": {},
   "outputs": [
    {
     "name": "stdout",
     "output_type": "stream",
     "text": [
      "Yes, successfully dropped.\n"
     ]
    }
   ],
   "source": [
    "# drop original column \n",
    "df.drop(columns='EMPLOYMENT_TYPE',inplace=True)\n",
    "\n",
    "# sanity check\n",
    "check_drop(df,['EMPLOYMENT_TYPE'])"
   ]
  },
  {
   "cell_type": "markdown",
   "id": "592cf349",
   "metadata": {},
   "source": [
    "## 4. Converting `AVERAGE_ACCT_AGE`, and `CREDIT_HISTORY_LENGTH` to numeric  <a class=\"anchor\" id=\"numeric\"></a>"
   ]
  },
  {
   "cell_type": "code",
   "execution_count": 47,
   "id": "dde554c5",
   "metadata": {},
   "outputs": [
    {
     "data": {
      "text/html": [
       "<div>\n",
       "<style scoped>\n",
       "    .dataframe tbody tr th:only-of-type {\n",
       "        vertical-align: middle;\n",
       "    }\n",
       "\n",
       "    .dataframe tbody tr th {\n",
       "        vertical-align: top;\n",
       "    }\n",
       "\n",
       "    .dataframe thead th {\n",
       "        text-align: right;\n",
       "    }\n",
       "</style>\n",
       "<table border=\"1\" class=\"dataframe\">\n",
       "  <thead>\n",
       "    <tr style=\"text-align: right;\">\n",
       "      <th></th>\n",
       "      <th>AVERAGE_ACCT_AGE</th>\n",
       "      <th>CREDIT_HISTORY_LENGTH</th>\n",
       "    </tr>\n",
       "  </thead>\n",
       "  <tbody>\n",
       "    <tr>\n",
       "      <th>0</th>\n",
       "      <td>0yrs 0mon</td>\n",
       "      <td>0yrs 0mon</td>\n",
       "    </tr>\n",
       "    <tr>\n",
       "      <th>1</th>\n",
       "      <td>1yrs 11mon</td>\n",
       "      <td>1yrs 11mon</td>\n",
       "    </tr>\n",
       "    <tr>\n",
       "      <th>2</th>\n",
       "      <td>0yrs 0mon</td>\n",
       "      <td>0yrs 0mon</td>\n",
       "    </tr>\n",
       "    <tr>\n",
       "      <th>3</th>\n",
       "      <td>0yrs 8mon</td>\n",
       "      <td>1yrs 3mon</td>\n",
       "    </tr>\n",
       "    <tr>\n",
       "      <th>4</th>\n",
       "      <td>0yrs 0mon</td>\n",
       "      <td>0yrs 0mon</td>\n",
       "    </tr>\n",
       "  </tbody>\n",
       "</table>\n",
       "</div>"
      ],
      "text/plain": [
       "  AVERAGE_ACCT_AGE CREDIT_HISTORY_LENGTH\n",
       "0        0yrs 0mon             0yrs 0mon\n",
       "1       1yrs 11mon            1yrs 11mon\n",
       "2        0yrs 0mon             0yrs 0mon\n",
       "3        0yrs 8mon             1yrs 3mon\n",
       "4        0yrs 0mon             0yrs 0mon"
      ]
     },
     "execution_count": 47,
     "metadata": {},
     "output_type": "execute_result"
    }
   ],
   "source": [
    "df[['AVERAGE_ACCT_AGE','CREDIT_HISTORY_LENGTH']].head()"
   ]
  },
  {
   "cell_type": "code",
   "execution_count": 48,
   "id": "b602d426",
   "metadata": {
    "scrolled": true
   },
   "outputs": [
    {
     "data": {
      "text/html": [
       "<div>\n",
       "<style scoped>\n",
       "    .dataframe tbody tr th:only-of-type {\n",
       "        vertical-align: middle;\n",
       "    }\n",
       "\n",
       "    .dataframe tbody tr th {\n",
       "        vertical-align: top;\n",
       "    }\n",
       "\n",
       "    .dataframe thead th {\n",
       "        text-align: right;\n",
       "    }\n",
       "</style>\n",
       "<table border=\"1\" class=\"dataframe\">\n",
       "  <thead>\n",
       "    <tr style=\"text-align: right;\">\n",
       "      <th></th>\n",
       "      <th>AVERAGE_ACCT_AGE</th>\n",
       "      <th>CREDIT_HISTORY_LENGTH</th>\n",
       "    </tr>\n",
       "  </thead>\n",
       "  <tbody>\n",
       "    <tr>\n",
       "      <th>0</th>\n",
       "      <td>0</td>\n",
       "      <td>0</td>\n",
       "    </tr>\n",
       "    <tr>\n",
       "      <th>1</th>\n",
       "      <td>23</td>\n",
       "      <td>23</td>\n",
       "    </tr>\n",
       "    <tr>\n",
       "      <th>2</th>\n",
       "      <td>0</td>\n",
       "      <td>0</td>\n",
       "    </tr>\n",
       "    <tr>\n",
       "      <th>3</th>\n",
       "      <td>8</td>\n",
       "      <td>15</td>\n",
       "    </tr>\n",
       "    <tr>\n",
       "      <th>4</th>\n",
       "      <td>0</td>\n",
       "      <td>0</td>\n",
       "    </tr>\n",
       "  </tbody>\n",
       "</table>\n",
       "</div>"
      ],
      "text/plain": [
       "  AVERAGE_ACCT_AGE CREDIT_HISTORY_LENGTH\n",
       "0                0                     0\n",
       "1               23                    23\n",
       "2                0                     0\n",
       "3                8                    15\n",
       "4                0                     0"
      ]
     },
     "execution_count": 48,
     "metadata": {},
     "output_type": "execute_result"
    }
   ],
   "source": [
    "# convert AVERAGE_ACCT_AGE to number of months\n",
    "df['AVERAGE_ACCT_AGE'] = df['AVERAGE_ACCT_AGE'].str.split(' ')\n",
    "for index,value in df['AVERAGE_ACCT_AGE'].items():\n",
    "        df.loc[index,'AVERAGE_ACCT_AGE'] = int(value[0][:-3])*12 + int(value[1][:-3])\n",
    "\n",
    "# convert CREDIT_HISTORY_LENGTH to number of months        \n",
    "df['CREDIT_HISTORY_LENGTH'] = df['CREDIT_HISTORY_LENGTH'].str.split(' ')\n",
    "for index,value in df['CREDIT_HISTORY_LENGTH'].items():\n",
    "        df.loc[index,'CREDIT_HISTORY_LENGTH'] = int(value[0][:-3])*12 + int(value[1][:-3])\n",
    "        \n",
    "# sanity check\n",
    "df[['AVERAGE_ACCT_AGE','CREDIT_HISTORY_LENGTH']].head()"
   ]
  },
  {
   "cell_type": "code",
   "execution_count": 49,
   "id": "bc13dab4",
   "metadata": {},
   "outputs": [
    {
     "name": "stdout",
     "output_type": "stream",
     "text": [
      "int64 int64\n"
     ]
    }
   ],
   "source": [
    "# change datatype\n",
    "df[['AVERAGE_ACCT_AGE','CREDIT_HISTORY_LENGTH']] = df[['AVERAGE_ACCT_AGE','CREDIT_HISTORY_LENGTH']]\\\n",
    "                                                    .astype('int64')\n",
    "# sanity check\n",
    "print(df['AVERAGE_ACCT_AGE'].dtype, df['CREDIT_HISTORY_LENGTH'].dtype)"
   ]
  },
  {
   "cell_type": "markdown",
   "id": "970a1973",
   "metadata": {},
   "source": [
    "### Train set"
   ]
  },
  {
   "cell_type": "code",
   "execution_count": 50,
   "id": "273e2919",
   "metadata": {},
   "outputs": [
    {
     "data": {
      "text/html": [
       "<div>\n",
       "<style scoped>\n",
       "    .dataframe tbody tr th:only-of-type {\n",
       "        vertical-align: middle;\n",
       "    }\n",
       "\n",
       "    .dataframe tbody tr th {\n",
       "        vertical-align: top;\n",
       "    }\n",
       "\n",
       "    .dataframe thead th {\n",
       "        text-align: right;\n",
       "    }\n",
       "</style>\n",
       "<table border=\"1\" class=\"dataframe\">\n",
       "  <thead>\n",
       "    <tr style=\"text-align: right;\">\n",
       "      <th></th>\n",
       "      <th>AVERAGE_ACCT_AGE</th>\n",
       "      <th>CREDIT_HISTORY_LENGTH</th>\n",
       "    </tr>\n",
       "  </thead>\n",
       "  <tbody>\n",
       "    <tr>\n",
       "      <th>23657</th>\n",
       "      <td>0yrs 3mon</td>\n",
       "      <td>0yrs 7mon</td>\n",
       "    </tr>\n",
       "    <tr>\n",
       "      <th>208842</th>\n",
       "      <td>0yrs 0mon</td>\n",
       "      <td>0yrs 0mon</td>\n",
       "    </tr>\n",
       "  </tbody>\n",
       "</table>\n",
       "</div>"
      ],
      "text/plain": [
       "       AVERAGE_ACCT_AGE CREDIT_HISTORY_LENGTH\n",
       "23657         0yrs 3mon             0yrs 7mon\n",
       "208842        0yrs 0mon             0yrs 0mon"
      ]
     },
     "execution_count": 50,
     "metadata": {},
     "output_type": "execute_result"
    }
   ],
   "source": [
    "X_train[['AVERAGE_ACCT_AGE','CREDIT_HISTORY_LENGTH']].head(2)"
   ]
  },
  {
   "cell_type": "code",
   "execution_count": 51,
   "id": "4a23bc83",
   "metadata": {},
   "outputs": [
    {
     "data": {
      "text/html": [
       "<div>\n",
       "<style scoped>\n",
       "    .dataframe tbody tr th:only-of-type {\n",
       "        vertical-align: middle;\n",
       "    }\n",
       "\n",
       "    .dataframe tbody tr th {\n",
       "        vertical-align: top;\n",
       "    }\n",
       "\n",
       "    .dataframe thead th {\n",
       "        text-align: right;\n",
       "    }\n",
       "</style>\n",
       "<table border=\"1\" class=\"dataframe\">\n",
       "  <thead>\n",
       "    <tr style=\"text-align: right;\">\n",
       "      <th></th>\n",
       "      <th>AVERAGE_ACCT_AGE</th>\n",
       "      <th>CREDIT_HISTORY_LENGTH</th>\n",
       "    </tr>\n",
       "  </thead>\n",
       "  <tbody>\n",
       "    <tr>\n",
       "      <th>23657</th>\n",
       "      <td>3</td>\n",
       "      <td>7</td>\n",
       "    </tr>\n",
       "    <tr>\n",
       "      <th>208842</th>\n",
       "      <td>0</td>\n",
       "      <td>0</td>\n",
       "    </tr>\n",
       "  </tbody>\n",
       "</table>\n",
       "</div>"
      ],
      "text/plain": [
       "       AVERAGE_ACCT_AGE CREDIT_HISTORY_LENGTH\n",
       "23657                 3                     7\n",
       "208842                0                     0"
      ]
     },
     "execution_count": 51,
     "metadata": {},
     "output_type": "execute_result"
    }
   ],
   "source": [
    "# convert AVERAGE_ACCT_AGE to number of months\n",
    "X_train['AVERAGE_ACCT_AGE'] = X_train['AVERAGE_ACCT_AGE'].str.split(' ')\n",
    "for index,value in X_train['AVERAGE_ACCT_AGE'].items():\n",
    "        X_train.loc[index,'AVERAGE_ACCT_AGE'] = int(value[0][:-3])*12 + int(value[1][:-3])\n",
    "\n",
    "# convert CREDIT_HISTORY_LENGTH to number of months        \n",
    "X_train['CREDIT_HISTORY_LENGTH'] = X_train['CREDIT_HISTORY_LENGTH'].str.split(' ')\n",
    "for index,value in X_train['CREDIT_HISTORY_LENGTH'].items():\n",
    "        X_train.loc[index,'CREDIT_HISTORY_LENGTH'] = int(value[0][:-3])*12 + int(value[1][:-3])\n",
    "\n",
    "#sanity check\n",
    "X_train[['AVERAGE_ACCT_AGE','CREDIT_HISTORY_LENGTH']].head(2)"
   ]
  },
  {
   "cell_type": "code",
   "execution_count": 52,
   "id": "445bac50",
   "metadata": {},
   "outputs": [
    {
     "name": "stdout",
     "output_type": "stream",
     "text": [
      "int64 int64\n"
     ]
    }
   ],
   "source": [
    "# change datatype\n",
    "X_train[['AVERAGE_ACCT_AGE','CREDIT_HISTORY_LENGTH']] = X_train[['AVERAGE_ACCT_AGE','CREDIT_HISTORY_LENGTH']]\\\n",
    "                                                    .astype('int64')\n",
    "\n",
    "# sanity check\n",
    "print(X_train['AVERAGE_ACCT_AGE'].dtype, X_train['CREDIT_HISTORY_LENGTH'].dtype)"
   ]
  },
  {
   "cell_type": "markdown",
   "id": "ac289e96",
   "metadata": {},
   "source": [
    "### Test set"
   ]
  },
  {
   "cell_type": "code",
   "execution_count": 53,
   "id": "e6a4c5eb",
   "metadata": {},
   "outputs": [
    {
     "data": {
      "text/html": [
       "<div>\n",
       "<style scoped>\n",
       "    .dataframe tbody tr th:only-of-type {\n",
       "        vertical-align: middle;\n",
       "    }\n",
       "\n",
       "    .dataframe tbody tr th {\n",
       "        vertical-align: top;\n",
       "    }\n",
       "\n",
       "    .dataframe thead th {\n",
       "        text-align: right;\n",
       "    }\n",
       "</style>\n",
       "<table border=\"1\" class=\"dataframe\">\n",
       "  <thead>\n",
       "    <tr style=\"text-align: right;\">\n",
       "      <th></th>\n",
       "      <th>AVERAGE_ACCT_AGE</th>\n",
       "      <th>CREDIT_HISTORY_LENGTH</th>\n",
       "    </tr>\n",
       "  </thead>\n",
       "  <tbody>\n",
       "    <tr>\n",
       "      <th>181843</th>\n",
       "      <td>0yrs 0mon</td>\n",
       "      <td>0yrs 0mon</td>\n",
       "    </tr>\n",
       "    <tr>\n",
       "      <th>35593</th>\n",
       "      <td>0yrs 0mon</td>\n",
       "      <td>0yrs 0mon</td>\n",
       "    </tr>\n",
       "  </tbody>\n",
       "</table>\n",
       "</div>"
      ],
      "text/plain": [
       "       AVERAGE_ACCT_AGE CREDIT_HISTORY_LENGTH\n",
       "181843        0yrs 0mon             0yrs 0mon\n",
       "35593         0yrs 0mon             0yrs 0mon"
      ]
     },
     "execution_count": 53,
     "metadata": {},
     "output_type": "execute_result"
    }
   ],
   "source": [
    "X_test[['AVERAGE_ACCT_AGE','CREDIT_HISTORY_LENGTH']].head(2)"
   ]
  },
  {
   "cell_type": "code",
   "execution_count": 54,
   "id": "a9ac5989",
   "metadata": {
    "scrolled": true
   },
   "outputs": [
    {
     "data": {
      "text/html": [
       "<div>\n",
       "<style scoped>\n",
       "    .dataframe tbody tr th:only-of-type {\n",
       "        vertical-align: middle;\n",
       "    }\n",
       "\n",
       "    .dataframe tbody tr th {\n",
       "        vertical-align: top;\n",
       "    }\n",
       "\n",
       "    .dataframe thead th {\n",
       "        text-align: right;\n",
       "    }\n",
       "</style>\n",
       "<table border=\"1\" class=\"dataframe\">\n",
       "  <thead>\n",
       "    <tr style=\"text-align: right;\">\n",
       "      <th></th>\n",
       "      <th>AVERAGE_ACCT_AGE</th>\n",
       "      <th>CREDIT_HISTORY_LENGTH</th>\n",
       "    </tr>\n",
       "  </thead>\n",
       "  <tbody>\n",
       "    <tr>\n",
       "      <th>181843</th>\n",
       "      <td>0</td>\n",
       "      <td>0</td>\n",
       "    </tr>\n",
       "    <tr>\n",
       "      <th>35593</th>\n",
       "      <td>0</td>\n",
       "      <td>0</td>\n",
       "    </tr>\n",
       "  </tbody>\n",
       "</table>\n",
       "</div>"
      ],
      "text/plain": [
       "       AVERAGE_ACCT_AGE CREDIT_HISTORY_LENGTH\n",
       "181843                0                     0\n",
       "35593                 0                     0"
      ]
     },
     "execution_count": 54,
     "metadata": {},
     "output_type": "execute_result"
    }
   ],
   "source": [
    "# convert AVERAGE_ACCT_AGE to number of months\n",
    "X_test['AVERAGE_ACCT_AGE'] = X_test['AVERAGE_ACCT_AGE'].str.split(' ')\n",
    "for index,value in X_test['AVERAGE_ACCT_AGE'].items():\n",
    "        X_test.loc[index,'AVERAGE_ACCT_AGE'] = int(value[0][:-3])*12 + int(value[1][:-3])\n",
    "\n",
    "# convert CREDIT_HISTORY_LENGTH to number of months        \n",
    "X_test['CREDIT_HISTORY_LENGTH'] = X_test['CREDIT_HISTORY_LENGTH'].str.split(' ')\n",
    "for index,value in X_test['CREDIT_HISTORY_LENGTH'].items():\n",
    "        X_test.loc[index,'CREDIT_HISTORY_LENGTH'] = int(value[0][:-3])*12 + int(value[1][:-3])\n",
    "\n",
    "#sanity check\n",
    "X_test[['AVERAGE_ACCT_AGE','CREDIT_HISTORY_LENGTH']].head(2)"
   ]
  },
  {
   "cell_type": "code",
   "execution_count": 55,
   "id": "355b0498",
   "metadata": {},
   "outputs": [
    {
     "name": "stdout",
     "output_type": "stream",
     "text": [
      "int64 int64\n"
     ]
    }
   ],
   "source": [
    "# change datatype\n",
    "X_test[['AVERAGE_ACCT_AGE','CREDIT_HISTORY_LENGTH']] = X_test[['AVERAGE_ACCT_AGE','CREDIT_HISTORY_LENGTH']]\\\n",
    "                                                    .astype('int64')\n",
    "\n",
    "# sanity check\n",
    "print(X_test['AVERAGE_ACCT_AGE'].dtype, X_test['CREDIT_HISTORY_LENGTH'].dtype)"
   ]
  },
  {
   "cell_type": "markdown",
   "id": "ba00954b",
   "metadata": {},
   "source": [
    "## 5. Calculating age of borrowers  <a class=\"anchor\" id=\"age\"></a>"
   ]
  },
  {
   "cell_type": "code",
   "execution_count": 56,
   "id": "e6dc3947",
   "metadata": {
    "scrolled": true
   },
   "outputs": [
    {
     "data": {
      "text/html": [
       "<div>\n",
       "<style scoped>\n",
       "    .dataframe tbody tr th:only-of-type {\n",
       "        vertical-align: middle;\n",
       "    }\n",
       "\n",
       "    .dataframe tbody tr th {\n",
       "        vertical-align: top;\n",
       "    }\n",
       "\n",
       "    .dataframe thead th {\n",
       "        text-align: right;\n",
       "    }\n",
       "</style>\n",
       "<table border=\"1\" class=\"dataframe\">\n",
       "  <thead>\n",
       "    <tr style=\"text-align: right;\">\n",
       "      <th></th>\n",
       "      <th>DATE_OF_BIRTH</th>\n",
       "      <th>AGE</th>\n",
       "    </tr>\n",
       "  </thead>\n",
       "  <tbody>\n",
       "    <tr>\n",
       "      <th>0</th>\n",
       "      <td>1984-01-01</td>\n",
       "      <td>39</td>\n",
       "    </tr>\n",
       "    <tr>\n",
       "      <th>1</th>\n",
       "      <td>1985-07-31</td>\n",
       "      <td>37</td>\n",
       "    </tr>\n",
       "    <tr>\n",
       "      <th>2</th>\n",
       "      <td>1985-08-24</td>\n",
       "      <td>37</td>\n",
       "    </tr>\n",
       "    <tr>\n",
       "      <th>3</th>\n",
       "      <td>1993-12-30</td>\n",
       "      <td>29</td>\n",
       "    </tr>\n",
       "    <tr>\n",
       "      <th>4</th>\n",
       "      <td>1977-09-12</td>\n",
       "      <td>45</td>\n",
       "    </tr>\n",
       "  </tbody>\n",
       "</table>\n",
       "</div>"
      ],
      "text/plain": [
       "  DATE_OF_BIRTH  AGE\n",
       "0    1984-01-01   39\n",
       "1    1985-07-31   37\n",
       "2    1985-08-24   37\n",
       "3    1993-12-30   29\n",
       "4    1977-09-12   45"
      ]
     },
     "execution_count": 56,
     "metadata": {},
     "output_type": "execute_result"
    }
   ],
   "source": [
    "# change datatype\n",
    "df['DATE_OF_BIRTH'] = df['DATE_OF_BIRTH'].astype('datetime64')\n",
    "\n",
    "# calculate age\n",
    "today = datetime.today()\n",
    "df['AGE'] = ((today - df['DATE_OF_BIRTH'])/np.timedelta64(1,'Y')).astype('int64')\n",
    "\n",
    "# sanity check\n",
    "df[['DATE_OF_BIRTH','AGE']].head()"
   ]
  },
  {
   "cell_type": "code",
   "execution_count": 57,
   "id": "1e38123a",
   "metadata": {
    "scrolled": true
   },
   "outputs": [
    {
     "name": "stdout",
     "output_type": "stream",
     "text": [
      "int64\n"
     ]
    }
   ],
   "source": [
    "# sanity check\n",
    "print(df['AGE'].dtype)"
   ]
  },
  {
   "cell_type": "code",
   "execution_count": 58,
   "id": "591f3146",
   "metadata": {},
   "outputs": [
    {
     "name": "stdout",
     "output_type": "stream",
     "text": [
      "Yes, successfully dropped.\n"
     ]
    }
   ],
   "source": [
    "# drop DATE_OF_BIRTH\n",
    "df=df.drop(columns='DATE_OF_BIRTH')\n",
    "\n",
    "# sanity check\n",
    "check_drop(df,['DATE_OF_BIRTH'])"
   ]
  },
  {
   "cell_type": "markdown",
   "id": "21ccd17b",
   "metadata": {},
   "source": [
    "### Train set "
   ]
  },
  {
   "cell_type": "code",
   "execution_count": 59,
   "id": "995e1cbf",
   "metadata": {},
   "outputs": [
    {
     "data": {
      "text/html": [
       "<div>\n",
       "<style scoped>\n",
       "    .dataframe tbody tr th:only-of-type {\n",
       "        vertical-align: middle;\n",
       "    }\n",
       "\n",
       "    .dataframe tbody tr th {\n",
       "        vertical-align: top;\n",
       "    }\n",
       "\n",
       "    .dataframe thead th {\n",
       "        text-align: right;\n",
       "    }\n",
       "</style>\n",
       "<table border=\"1\" class=\"dataframe\">\n",
       "  <thead>\n",
       "    <tr style=\"text-align: right;\">\n",
       "      <th></th>\n",
       "      <th>DATE_OF_BIRTH</th>\n",
       "      <th>AGE</th>\n",
       "    </tr>\n",
       "  </thead>\n",
       "  <tbody>\n",
       "    <tr>\n",
       "      <th>23657</th>\n",
       "      <td>1996-09-28</td>\n",
       "      <td>26</td>\n",
       "    </tr>\n",
       "    <tr>\n",
       "      <th>208842</th>\n",
       "      <td>1990-04-27</td>\n",
       "      <td>33</td>\n",
       "    </tr>\n",
       "  </tbody>\n",
       "</table>\n",
       "</div>"
      ],
      "text/plain": [
       "       DATE_OF_BIRTH  AGE\n",
       "23657     1996-09-28   26\n",
       "208842    1990-04-27   33"
      ]
     },
     "execution_count": 59,
     "metadata": {},
     "output_type": "execute_result"
    }
   ],
   "source": [
    "# change datatype\n",
    "X_train['DATE_OF_BIRTH'] = X_train['DATE_OF_BIRTH'].astype('datetime64')\n",
    "\n",
    "# calculate age\n",
    "X_train['AGE'] = ((today - X_train['DATE_OF_BIRTH'])/np.timedelta64(1,'Y')).astype('int64')\n",
    "\n",
    "# sanity check\n",
    "X_train[['DATE_OF_BIRTH','AGE']].head(2)"
   ]
  },
  {
   "cell_type": "code",
   "execution_count": 60,
   "id": "bdddec91",
   "metadata": {},
   "outputs": [
    {
     "name": "stdout",
     "output_type": "stream",
     "text": [
      "int64\n"
     ]
    }
   ],
   "source": [
    "# sanity check\n",
    "print(X_train['AGE'].dtype)"
   ]
  },
  {
   "cell_type": "code",
   "execution_count": 61,
   "id": "4604ed8f",
   "metadata": {},
   "outputs": [
    {
     "name": "stdout",
     "output_type": "stream",
     "text": [
      "Yes, successfully dropped.\n"
     ]
    }
   ],
   "source": [
    "# drop DATE_OF_BIRTH\n",
    "X_train.drop(columns='DATE_OF_BIRTH', inplace=True)\n",
    "\n",
    "# sanity check\n",
    "check_drop(X_train,['DATE_OF_BIRTH'])"
   ]
  },
  {
   "cell_type": "markdown",
   "id": "d8b24e08",
   "metadata": {},
   "source": [
    "### Test set "
   ]
  },
  {
   "cell_type": "code",
   "execution_count": 62,
   "id": "9323b512",
   "metadata": {
    "scrolled": true
   },
   "outputs": [
    {
     "data": {
      "text/html": [
       "<div>\n",
       "<style scoped>\n",
       "    .dataframe tbody tr th:only-of-type {\n",
       "        vertical-align: middle;\n",
       "    }\n",
       "\n",
       "    .dataframe tbody tr th {\n",
       "        vertical-align: top;\n",
       "    }\n",
       "\n",
       "    .dataframe thead th {\n",
       "        text-align: right;\n",
       "    }\n",
       "</style>\n",
       "<table border=\"1\" class=\"dataframe\">\n",
       "  <thead>\n",
       "    <tr style=\"text-align: right;\">\n",
       "      <th></th>\n",
       "      <th>DATE_OF_BIRTH</th>\n",
       "      <th>AGE</th>\n",
       "    </tr>\n",
       "  </thead>\n",
       "  <tbody>\n",
       "    <tr>\n",
       "      <th>181843</th>\n",
       "      <td>1984-06-15</td>\n",
       "      <td>38</td>\n",
       "    </tr>\n",
       "    <tr>\n",
       "      <th>35593</th>\n",
       "      <td>1996-06-03</td>\n",
       "      <td>26</td>\n",
       "    </tr>\n",
       "  </tbody>\n",
       "</table>\n",
       "</div>"
      ],
      "text/plain": [
       "       DATE_OF_BIRTH  AGE\n",
       "181843    1984-06-15   38\n",
       "35593     1996-06-03   26"
      ]
     },
     "execution_count": 62,
     "metadata": {},
     "output_type": "execute_result"
    }
   ],
   "source": [
    "# change datatype\n",
    "X_test['DATE_OF_BIRTH'] = X_test['DATE_OF_BIRTH'].astype('datetime64')\n",
    "\n",
    "# calculate age\n",
    "X_test['AGE'] = ((today - X_test['DATE_OF_BIRTH'])/np.timedelta64(1,'Y')).astype('int64')\n",
    "\n",
    "# sanity check\n",
    "X_test[['DATE_OF_BIRTH','AGE']].head(2)"
   ]
  },
  {
   "cell_type": "code",
   "execution_count": 63,
   "id": "e6ff2cec",
   "metadata": {},
   "outputs": [
    {
     "name": "stdout",
     "output_type": "stream",
     "text": [
      "int64\n"
     ]
    }
   ],
   "source": [
    "# sanity check\n",
    "print(X_test['AGE'].dtype)"
   ]
  },
  {
   "cell_type": "code",
   "execution_count": 64,
   "id": "0bb44331",
   "metadata": {},
   "outputs": [
    {
     "name": "stdout",
     "output_type": "stream",
     "text": [
      "Yes, successfully dropped.\n"
     ]
    }
   ],
   "source": [
    "# drop DATE_OF_BIRTH\n",
    "X_test.drop(columns='DATE_OF_BIRTH', inplace=True)\n",
    "\n",
    "# sanity check\n",
    "check_drop(X_test,['DATE_OF_BIRTH'])"
   ]
  },
  {
   "cell_type": "markdown",
   "id": "708de283",
   "metadata": {},
   "source": [
    "## 6. Checking single-value columns  <a class=\"anchor\" id=\"single\"></a>"
   ]
  },
  {
   "cell_type": "code",
   "execution_count": 65,
   "id": "392d6a92",
   "metadata": {
    "scrolled": false
   },
   "outputs": [
    {
     "name": "stdout",
     "output_type": "stream",
     "text": [
      "MOBILENO_AVL_FLAG\n",
      "DISBURSAL_YEAR\n"
     ]
    }
   ],
   "source": [
    "for i in df.columns:\n",
    "    if len(set(df[i]))==1:\n",
    "        print(i)"
   ]
  },
  {
   "cell_type": "code",
   "execution_count": 66,
   "id": "cbef058f",
   "metadata": {},
   "outputs": [
    {
     "name": "stdout",
     "output_type": "stream",
     "text": [
      "{1}\n",
      "{2018}\n"
     ]
    }
   ],
   "source": [
    "# look into it\n",
    "print(set(df['MOBILENO_AVL_FLAG']))\n",
    "print(set(df['DISBURSAL_YEAR']))"
   ]
  },
  {
   "cell_type": "markdown",
   "id": "eaac1ead",
   "metadata": {},
   "source": [
    "- `MOBILENO_AVL_FLAG` contains one value only, which is '1', since all borrowers provide their mobile phone number.\n",
    "- Values for `DISBURSAL_YEAR` is all 2018.\n",
    "\n",
    "Let's drop them, for all df, X_train and X_test."
   ]
  },
  {
   "cell_type": "code",
   "execution_count": 67,
   "id": "4c3d155a",
   "metadata": {
    "scrolled": true
   },
   "outputs": [],
   "source": [
    "# drop it\n",
    "df.drop(columns=['MOBILENO_AVL_FLAG','DISBURSAL_YEAR'], inplace=True)\n",
    "X_train.drop(columns=['MOBILENO_AVL_FLAG','DISBURSAL_YEAR'], inplace=True)\n",
    "X_test.drop(columns=['MOBILENO_AVL_FLAG','DISBURSAL_YEAR'], inplace=True)"
   ]
  },
  {
   "cell_type": "code",
   "execution_count": 68,
   "id": "871f0dc3",
   "metadata": {
    "scrolled": true
   },
   "outputs": [
    {
     "name": "stdout",
     "output_type": "stream",
     "text": [
      "Yes, successfully dropped.\n",
      "Yes, successfully dropped.\n",
      "Yes, successfully dropped.\n"
     ]
    }
   ],
   "source": [
    "# sanity check \n",
    "check_drop(df,['MOBILENO_AVL_FLAG','DISBURSAL_YEAR'])\n",
    "check_drop(X_train,['MOBILENO_AVL_FLAG','DISBURSAL_YEAR'])\n",
    "check_drop(X_test,['MOBILENO_AVL_FLAG','DISBURSAL_YEAR'])"
   ]
  },
  {
   "cell_type": "markdown",
   "id": "d99213dc",
   "metadata": {},
   "source": [
    "# Exporting to csv for modelling  <a class=\"anchor\" id=\"export\"></a>"
   ]
  },
  {
   "cell_type": "code",
   "execution_count": 69,
   "id": "11de2c50",
   "metadata": {
    "scrolled": true
   },
   "outputs": [
    {
     "data": {
      "text/html": [
       "<div>\n",
       "<style scoped>\n",
       "    .dataframe tbody tr th:only-of-type {\n",
       "        vertical-align: middle;\n",
       "    }\n",
       "\n",
       "    .dataframe tbody tr th {\n",
       "        vertical-align: top;\n",
       "    }\n",
       "\n",
       "    .dataframe thead th {\n",
       "        text-align: right;\n",
       "    }\n",
       "</style>\n",
       "<table border=\"1\" class=\"dataframe\">\n",
       "  <thead>\n",
       "    <tr style=\"text-align: right;\">\n",
       "      <th></th>\n",
       "      <th>UNIQUEID</th>\n",
       "      <th>DISBURSED_AMOUNT</th>\n",
       "      <th>ASSET_COST</th>\n",
       "      <th>LTV</th>\n",
       "      <th>BRANCH_ID</th>\n",
       "      <th>SUPPLIER_ID</th>\n",
       "      <th>MANUFACTURER_ID</th>\n",
       "      <th>CURRENT_PINCODE_ID</th>\n",
       "      <th>STATE_ID</th>\n",
       "      <th>EMPLOYEE_CODE_ID</th>\n",
       "      <th>AADHAR_FLAG</th>\n",
       "      <th>PAN_FLAG</th>\n",
       "      <th>VOTERID_FLAG</th>\n",
       "      <th>DRIVING_FLAG</th>\n",
       "      <th>PASSPORT_FLAG</th>\n",
       "      <th>PERFORM_CNS_SCORE</th>\n",
       "      <th>PERFORM_CNS_SCORE_DESCRIPTION</th>\n",
       "      <th>PRI_NO_OF_ACCTS</th>\n",
       "      <th>PRI_ACTIVE_ACCTS</th>\n",
       "      <th>PRI_OVERDUE_ACCTS</th>\n",
       "      <th>PRI_CURRENT_BALANCE</th>\n",
       "      <th>PRI_SANCTIONED_AMOUNT</th>\n",
       "      <th>PRI_DISBURSED_AMOUNT</th>\n",
       "      <th>SEC_NO_OF_ACCTS</th>\n",
       "      <th>SEC_ACTIVE_ACCTS</th>\n",
       "      <th>SEC_OVERDUE_ACCTS</th>\n",
       "      <th>SEC_CURRENT_BALANCE</th>\n",
       "      <th>SEC_SANCTIONED_AMOUNT</th>\n",
       "      <th>SEC_DISBURSED_AMOUNT</th>\n",
       "      <th>PRIMARY_INSTAL_AMT</th>\n",
       "      <th>SEC_INSTAL_AMT</th>\n",
       "      <th>NEW_ACCTS_IN_LAST_SIX_MONTHS</th>\n",
       "      <th>DELINQUENT_ACCTS_IN_LAST_SIX_MONTHS</th>\n",
       "      <th>AVERAGE_ACCT_AGE</th>\n",
       "      <th>CREDIT_HISTORY_LENGTH</th>\n",
       "      <th>NO_OF_INQUIRIES</th>\n",
       "      <th>LOAN_DEFAULT</th>\n",
       "      <th>DISBURSAL_MONTH</th>\n",
       "      <th>DISBURSAL_DAY</th>\n",
       "      <th>EMPLOYMENT_TYPE_SALARIED</th>\n",
       "      <th>EMPLOYMENT_TYPE_SELF_EMPLOYED</th>\n",
       "      <th>AGE</th>\n",
       "    </tr>\n",
       "  </thead>\n",
       "  <tbody>\n",
       "    <tr>\n",
       "      <th>0</th>\n",
       "      <td>420825</td>\n",
       "      <td>50578</td>\n",
       "      <td>58400</td>\n",
       "      <td>89.55</td>\n",
       "      <td>67</td>\n",
       "      <td>22807</td>\n",
       "      <td>45</td>\n",
       "      <td>1441</td>\n",
       "      <td>6</td>\n",
       "      <td>1998</td>\n",
       "      <td>1</td>\n",
       "      <td>0</td>\n",
       "      <td>0</td>\n",
       "      <td>0</td>\n",
       "      <td>0</td>\n",
       "      <td>0</td>\n",
       "      <td>0</td>\n",
       "      <td>0</td>\n",
       "      <td>0</td>\n",
       "      <td>0</td>\n",
       "      <td>0</td>\n",
       "      <td>0</td>\n",
       "      <td>0</td>\n",
       "      <td>0</td>\n",
       "      <td>0</td>\n",
       "      <td>0</td>\n",
       "      <td>0</td>\n",
       "      <td>0</td>\n",
       "      <td>0</td>\n",
       "      <td>0</td>\n",
       "      <td>0</td>\n",
       "      <td>0</td>\n",
       "      <td>0</td>\n",
       "      <td>0</td>\n",
       "      <td>0</td>\n",
       "      <td>0</td>\n",
       "      <td>0</td>\n",
       "      <td>3</td>\n",
       "      <td>8</td>\n",
       "      <td>1</td>\n",
       "      <td>0</td>\n",
       "      <td>39</td>\n",
       "    </tr>\n",
       "    <tr>\n",
       "      <th>1</th>\n",
       "      <td>537409</td>\n",
       "      <td>47145</td>\n",
       "      <td>65550</td>\n",
       "      <td>73.23</td>\n",
       "      <td>67</td>\n",
       "      <td>22807</td>\n",
       "      <td>45</td>\n",
       "      <td>1502</td>\n",
       "      <td>6</td>\n",
       "      <td>1998</td>\n",
       "      <td>1</td>\n",
       "      <td>0</td>\n",
       "      <td>0</td>\n",
       "      <td>0</td>\n",
       "      <td>0</td>\n",
       "      <td>598</td>\n",
       "      <td>4</td>\n",
       "      <td>1</td>\n",
       "      <td>1</td>\n",
       "      <td>1</td>\n",
       "      <td>27600</td>\n",
       "      <td>50200</td>\n",
       "      <td>50200</td>\n",
       "      <td>0</td>\n",
       "      <td>0</td>\n",
       "      <td>0</td>\n",
       "      <td>0</td>\n",
       "      <td>0</td>\n",
       "      <td>0</td>\n",
       "      <td>1991</td>\n",
       "      <td>0</td>\n",
       "      <td>0</td>\n",
       "      <td>1</td>\n",
       "      <td>23</td>\n",
       "      <td>23</td>\n",
       "      <td>0</td>\n",
       "      <td>1</td>\n",
       "      <td>9</td>\n",
       "      <td>26</td>\n",
       "      <td>0</td>\n",
       "      <td>1</td>\n",
       "      <td>37</td>\n",
       "    </tr>\n",
       "  </tbody>\n",
       "</table>\n",
       "</div>"
      ],
      "text/plain": [
       "   UNIQUEID  DISBURSED_AMOUNT  ASSET_COST    LTV  BRANCH_ID  SUPPLIER_ID  \\\n",
       "0    420825             50578       58400  89.55         67        22807   \n",
       "1    537409             47145       65550  73.23         67        22807   \n",
       "\n",
       "   MANUFACTURER_ID  CURRENT_PINCODE_ID  STATE_ID  EMPLOYEE_CODE_ID  \\\n",
       "0               45                1441         6              1998   \n",
       "1               45                1502         6              1998   \n",
       "\n",
       "   AADHAR_FLAG  PAN_FLAG  VOTERID_FLAG  DRIVING_FLAG  PASSPORT_FLAG  \\\n",
       "0            1         0             0             0              0   \n",
       "1            1         0             0             0              0   \n",
       "\n",
       "   PERFORM_CNS_SCORE  PERFORM_CNS_SCORE_DESCRIPTION  PRI_NO_OF_ACCTS  \\\n",
       "0                  0                              0                0   \n",
       "1                598                              4                1   \n",
       "\n",
       "   PRI_ACTIVE_ACCTS  PRI_OVERDUE_ACCTS  PRI_CURRENT_BALANCE  \\\n",
       "0                 0                  0                    0   \n",
       "1                 1                  1                27600   \n",
       "\n",
       "   PRI_SANCTIONED_AMOUNT  PRI_DISBURSED_AMOUNT  SEC_NO_OF_ACCTS  \\\n",
       "0                      0                     0                0   \n",
       "1                  50200                 50200                0   \n",
       "\n",
       "   SEC_ACTIVE_ACCTS  SEC_OVERDUE_ACCTS  SEC_CURRENT_BALANCE  \\\n",
       "0                 0                  0                    0   \n",
       "1                 0                  0                    0   \n",
       "\n",
       "   SEC_SANCTIONED_AMOUNT  SEC_DISBURSED_AMOUNT  PRIMARY_INSTAL_AMT  \\\n",
       "0                      0                     0                   0   \n",
       "1                      0                     0                1991   \n",
       "\n",
       "   SEC_INSTAL_AMT  NEW_ACCTS_IN_LAST_SIX_MONTHS  \\\n",
       "0               0                             0   \n",
       "1               0                             0   \n",
       "\n",
       "   DELINQUENT_ACCTS_IN_LAST_SIX_MONTHS  AVERAGE_ACCT_AGE  \\\n",
       "0                                    0                 0   \n",
       "1                                    1                23   \n",
       "\n",
       "   CREDIT_HISTORY_LENGTH  NO_OF_INQUIRIES  LOAN_DEFAULT  DISBURSAL_MONTH  \\\n",
       "0                      0                0             0                3   \n",
       "1                     23                0             1                9   \n",
       "\n",
       "   DISBURSAL_DAY  EMPLOYMENT_TYPE_SALARIED  EMPLOYMENT_TYPE_SELF_EMPLOYED  AGE  \n",
       "0              8                         1                              0   39  \n",
       "1             26                         0                              1   37  "
      ]
     },
     "execution_count": 69,
     "metadata": {},
     "output_type": "execute_result"
    }
   ],
   "source": [
    "# final check\n",
    "df.head(2)"
   ]
  },
  {
   "cell_type": "code",
   "execution_count": 70,
   "id": "532e3bc7",
   "metadata": {},
   "outputs": [
    {
     "data": {
      "text/html": [
       "<div>\n",
       "<style scoped>\n",
       "    .dataframe tbody tr th:only-of-type {\n",
       "        vertical-align: middle;\n",
       "    }\n",
       "\n",
       "    .dataframe tbody tr th {\n",
       "        vertical-align: top;\n",
       "    }\n",
       "\n",
       "    .dataframe thead th {\n",
       "        text-align: right;\n",
       "    }\n",
       "</style>\n",
       "<table border=\"1\" class=\"dataframe\">\n",
       "  <thead>\n",
       "    <tr style=\"text-align: right;\">\n",
       "      <th></th>\n",
       "      <th>UNIQUEID</th>\n",
       "      <th>DISBURSED_AMOUNT</th>\n",
       "      <th>ASSET_COST</th>\n",
       "      <th>LTV</th>\n",
       "      <th>BRANCH_ID</th>\n",
       "      <th>SUPPLIER_ID</th>\n",
       "      <th>MANUFACTURER_ID</th>\n",
       "      <th>CURRENT_PINCODE_ID</th>\n",
       "      <th>EMPLOYMENT_TYPE</th>\n",
       "      <th>STATE_ID</th>\n",
       "      <th>EMPLOYEE_CODE_ID</th>\n",
       "      <th>AADHAR_FLAG</th>\n",
       "      <th>PAN_FLAG</th>\n",
       "      <th>VOTERID_FLAG</th>\n",
       "      <th>DRIVING_FLAG</th>\n",
       "      <th>PASSPORT_FLAG</th>\n",
       "      <th>PERFORM_CNS_SCORE</th>\n",
       "      <th>PERFORM_CNS_SCORE_DESCRIPTION</th>\n",
       "      <th>PRI_NO_OF_ACCTS</th>\n",
       "      <th>PRI_ACTIVE_ACCTS</th>\n",
       "      <th>PRI_OVERDUE_ACCTS</th>\n",
       "      <th>PRI_CURRENT_BALANCE</th>\n",
       "      <th>PRI_SANCTIONED_AMOUNT</th>\n",
       "      <th>PRI_DISBURSED_AMOUNT</th>\n",
       "      <th>SEC_NO_OF_ACCTS</th>\n",
       "      <th>SEC_ACTIVE_ACCTS</th>\n",
       "      <th>SEC_OVERDUE_ACCTS</th>\n",
       "      <th>SEC_CURRENT_BALANCE</th>\n",
       "      <th>SEC_SANCTIONED_AMOUNT</th>\n",
       "      <th>SEC_DISBURSED_AMOUNT</th>\n",
       "      <th>PRIMARY_INSTAL_AMT</th>\n",
       "      <th>SEC_INSTAL_AMT</th>\n",
       "      <th>NEW_ACCTS_IN_LAST_SIX_MONTHS</th>\n",
       "      <th>DELINQUENT_ACCTS_IN_LAST_SIX_MONTHS</th>\n",
       "      <th>AVERAGE_ACCT_AGE</th>\n",
       "      <th>CREDIT_HISTORY_LENGTH</th>\n",
       "      <th>NO_OF_INQUIRIES</th>\n",
       "      <th>DISBURSAL_MONTH</th>\n",
       "      <th>DISBURSAL_DAY</th>\n",
       "      <th>AGE</th>\n",
       "    </tr>\n",
       "  </thead>\n",
       "  <tbody>\n",
       "    <tr>\n",
       "      <th>23657</th>\n",
       "      <td>502118</td>\n",
       "      <td>48849</td>\n",
       "      <td>67000</td>\n",
       "      <td>73.88</td>\n",
       "      <td>68</td>\n",
       "      <td>18332</td>\n",
       "      <td>86</td>\n",
       "      <td>854</td>\n",
       "      <td>Salaried</td>\n",
       "      <td>6</td>\n",
       "      <td>626</td>\n",
       "      <td>1</td>\n",
       "      <td>0</td>\n",
       "      <td>0</td>\n",
       "      <td>0</td>\n",
       "      <td>0</td>\n",
       "      <td>679</td>\n",
       "      <td>F-Low Risk</td>\n",
       "      <td>4</td>\n",
       "      <td>2</td>\n",
       "      <td>0</td>\n",
       "      <td>45105</td>\n",
       "      <td>45105</td>\n",
       "      <td>45105</td>\n",
       "      <td>0</td>\n",
       "      <td>0</td>\n",
       "      <td>0</td>\n",
       "      <td>0</td>\n",
       "      <td>0</td>\n",
       "      <td>0</td>\n",
       "      <td>8319</td>\n",
       "      <td>0</td>\n",
       "      <td>2</td>\n",
       "      <td>0</td>\n",
       "      <td>3</td>\n",
       "      <td>7</td>\n",
       "      <td>2</td>\n",
       "      <td>12</td>\n",
       "      <td>9</td>\n",
       "      <td>26</td>\n",
       "    </tr>\n",
       "    <tr>\n",
       "      <th>208842</th>\n",
       "      <td>508189</td>\n",
       "      <td>33341</td>\n",
       "      <td>89163</td>\n",
       "      <td>39.25</td>\n",
       "      <td>65</td>\n",
       "      <td>16166</td>\n",
       "      <td>48</td>\n",
       "      <td>6852</td>\n",
       "      <td>Self employed</td>\n",
       "      <td>13</td>\n",
       "      <td>2414</td>\n",
       "      <td>1</td>\n",
       "      <td>0</td>\n",
       "      <td>0</td>\n",
       "      <td>0</td>\n",
       "      <td>0</td>\n",
       "      <td>0</td>\n",
       "      <td>No Bureau History Available</td>\n",
       "      <td>0</td>\n",
       "      <td>0</td>\n",
       "      <td>0</td>\n",
       "      <td>0</td>\n",
       "      <td>0</td>\n",
       "      <td>0</td>\n",
       "      <td>0</td>\n",
       "      <td>0</td>\n",
       "      <td>0</td>\n",
       "      <td>0</td>\n",
       "      <td>0</td>\n",
       "      <td>0</td>\n",
       "      <td>0</td>\n",
       "      <td>0</td>\n",
       "      <td>0</td>\n",
       "      <td>0</td>\n",
       "      <td>0</td>\n",
       "      <td>0</td>\n",
       "      <td>0</td>\n",
       "      <td>9</td>\n",
       "      <td>15</td>\n",
       "      <td>33</td>\n",
       "    </tr>\n",
       "  </tbody>\n",
       "</table>\n",
       "</div>"
      ],
      "text/plain": [
       "        UNIQUEID  DISBURSED_AMOUNT  ASSET_COST    LTV  BRANCH_ID  SUPPLIER_ID  \\\n",
       "23657     502118             48849       67000  73.88         68        18332   \n",
       "208842    508189             33341       89163  39.25         65        16166   \n",
       "\n",
       "        MANUFACTURER_ID  CURRENT_PINCODE_ID EMPLOYMENT_TYPE  STATE_ID  \\\n",
       "23657                86                 854        Salaried         6   \n",
       "208842               48                6852   Self employed        13   \n",
       "\n",
       "        EMPLOYEE_CODE_ID  AADHAR_FLAG  PAN_FLAG  VOTERID_FLAG  DRIVING_FLAG  \\\n",
       "23657                626            1         0             0             0   \n",
       "208842              2414            1         0             0             0   \n",
       "\n",
       "        PASSPORT_FLAG  PERFORM_CNS_SCORE PERFORM_CNS_SCORE_DESCRIPTION  \\\n",
       "23657               0                679                    F-Low Risk   \n",
       "208842              0                  0   No Bureau History Available   \n",
       "\n",
       "        PRI_NO_OF_ACCTS  PRI_ACTIVE_ACCTS  PRI_OVERDUE_ACCTS  \\\n",
       "23657                 4                 2                  0   \n",
       "208842                0                 0                  0   \n",
       "\n",
       "        PRI_CURRENT_BALANCE  PRI_SANCTIONED_AMOUNT  PRI_DISBURSED_AMOUNT  \\\n",
       "23657                 45105                  45105                 45105   \n",
       "208842                    0                      0                     0   \n",
       "\n",
       "        SEC_NO_OF_ACCTS  SEC_ACTIVE_ACCTS  SEC_OVERDUE_ACCTS  \\\n",
       "23657                 0                 0                  0   \n",
       "208842                0                 0                  0   \n",
       "\n",
       "        SEC_CURRENT_BALANCE  SEC_SANCTIONED_AMOUNT  SEC_DISBURSED_AMOUNT  \\\n",
       "23657                     0                      0                     0   \n",
       "208842                    0                      0                     0   \n",
       "\n",
       "        PRIMARY_INSTAL_AMT  SEC_INSTAL_AMT  NEW_ACCTS_IN_LAST_SIX_MONTHS  \\\n",
       "23657                 8319               0                             2   \n",
       "208842                   0               0                             0   \n",
       "\n",
       "        DELINQUENT_ACCTS_IN_LAST_SIX_MONTHS  AVERAGE_ACCT_AGE  \\\n",
       "23657                                     0                 3   \n",
       "208842                                    0                 0   \n",
       "\n",
       "        CREDIT_HISTORY_LENGTH  NO_OF_INQUIRIES  DISBURSAL_MONTH  \\\n",
       "23657                       7                2               12   \n",
       "208842                      0                0                9   \n",
       "\n",
       "        DISBURSAL_DAY  AGE  \n",
       "23657               9   26  \n",
       "208842             15   33  "
      ]
     },
     "execution_count": 70,
     "metadata": {},
     "output_type": "execute_result"
    }
   ],
   "source": [
    "X_train.head(2)"
   ]
  },
  {
   "cell_type": "code",
   "execution_count": 71,
   "id": "ef0bc722",
   "metadata": {
    "scrolled": false
   },
   "outputs": [
    {
     "data": {
      "text/html": [
       "<div>\n",
       "<style scoped>\n",
       "    .dataframe tbody tr th:only-of-type {\n",
       "        vertical-align: middle;\n",
       "    }\n",
       "\n",
       "    .dataframe tbody tr th {\n",
       "        vertical-align: top;\n",
       "    }\n",
       "\n",
       "    .dataframe thead th {\n",
       "        text-align: right;\n",
       "    }\n",
       "</style>\n",
       "<table border=\"1\" class=\"dataframe\">\n",
       "  <thead>\n",
       "    <tr style=\"text-align: right;\">\n",
       "      <th></th>\n",
       "      <th>UNIQUEID</th>\n",
       "      <th>DISBURSED_AMOUNT</th>\n",
       "      <th>ASSET_COST</th>\n",
       "      <th>LTV</th>\n",
       "      <th>BRANCH_ID</th>\n",
       "      <th>SUPPLIER_ID</th>\n",
       "      <th>MANUFACTURER_ID</th>\n",
       "      <th>CURRENT_PINCODE_ID</th>\n",
       "      <th>EMPLOYMENT_TYPE</th>\n",
       "      <th>STATE_ID</th>\n",
       "      <th>EMPLOYEE_CODE_ID</th>\n",
       "      <th>AADHAR_FLAG</th>\n",
       "      <th>PAN_FLAG</th>\n",
       "      <th>VOTERID_FLAG</th>\n",
       "      <th>DRIVING_FLAG</th>\n",
       "      <th>PASSPORT_FLAG</th>\n",
       "      <th>PERFORM_CNS_SCORE</th>\n",
       "      <th>PERFORM_CNS_SCORE_DESCRIPTION</th>\n",
       "      <th>PRI_NO_OF_ACCTS</th>\n",
       "      <th>PRI_ACTIVE_ACCTS</th>\n",
       "      <th>PRI_OVERDUE_ACCTS</th>\n",
       "      <th>PRI_CURRENT_BALANCE</th>\n",
       "      <th>PRI_SANCTIONED_AMOUNT</th>\n",
       "      <th>PRI_DISBURSED_AMOUNT</th>\n",
       "      <th>SEC_NO_OF_ACCTS</th>\n",
       "      <th>SEC_ACTIVE_ACCTS</th>\n",
       "      <th>SEC_OVERDUE_ACCTS</th>\n",
       "      <th>SEC_CURRENT_BALANCE</th>\n",
       "      <th>SEC_SANCTIONED_AMOUNT</th>\n",
       "      <th>SEC_DISBURSED_AMOUNT</th>\n",
       "      <th>PRIMARY_INSTAL_AMT</th>\n",
       "      <th>SEC_INSTAL_AMT</th>\n",
       "      <th>NEW_ACCTS_IN_LAST_SIX_MONTHS</th>\n",
       "      <th>DELINQUENT_ACCTS_IN_LAST_SIX_MONTHS</th>\n",
       "      <th>AVERAGE_ACCT_AGE</th>\n",
       "      <th>CREDIT_HISTORY_LENGTH</th>\n",
       "      <th>NO_OF_INQUIRIES</th>\n",
       "      <th>DISBURSAL_MONTH</th>\n",
       "      <th>DISBURSAL_DAY</th>\n",
       "      <th>AGE</th>\n",
       "    </tr>\n",
       "  </thead>\n",
       "  <tbody>\n",
       "    <tr>\n",
       "      <th>181843</th>\n",
       "      <td>505120</td>\n",
       "      <td>58013</td>\n",
       "      <td>75981</td>\n",
       "      <td>78.97</td>\n",
       "      <td>7</td>\n",
       "      <td>14734</td>\n",
       "      <td>45</td>\n",
       "      <td>5804</td>\n",
       "      <td>Self employed</td>\n",
       "      <td>3</td>\n",
       "      <td>2504</td>\n",
       "      <td>1</td>\n",
       "      <td>0</td>\n",
       "      <td>0</td>\n",
       "      <td>0</td>\n",
       "      <td>0</td>\n",
       "      <td>0</td>\n",
       "      <td>No Bureau History Available</td>\n",
       "      <td>0</td>\n",
       "      <td>0</td>\n",
       "      <td>0</td>\n",
       "      <td>0</td>\n",
       "      <td>0</td>\n",
       "      <td>0</td>\n",
       "      <td>0</td>\n",
       "      <td>0</td>\n",
       "      <td>0</td>\n",
       "      <td>0</td>\n",
       "      <td>0</td>\n",
       "      <td>0</td>\n",
       "      <td>0</td>\n",
       "      <td>0</td>\n",
       "      <td>0</td>\n",
       "      <td>0</td>\n",
       "      <td>0</td>\n",
       "      <td>0</td>\n",
       "      <td>0</td>\n",
       "      <td>9</td>\n",
       "      <td>14</td>\n",
       "      <td>38</td>\n",
       "    </tr>\n",
       "    <tr>\n",
       "      <th>35593</th>\n",
       "      <td>504840</td>\n",
       "      <td>67169</td>\n",
       "      <td>87652</td>\n",
       "      <td>78.72</td>\n",
       "      <td>162</td>\n",
       "      <td>23833</td>\n",
       "      <td>86</td>\n",
       "      <td>1890</td>\n",
       "      <td>Salaried</td>\n",
       "      <td>4</td>\n",
       "      <td>11</td>\n",
       "      <td>0</td>\n",
       "      <td>0</td>\n",
       "      <td>1</td>\n",
       "      <td>0</td>\n",
       "      <td>0</td>\n",
       "      <td>0</td>\n",
       "      <td>No Bureau History Available</td>\n",
       "      <td>0</td>\n",
       "      <td>0</td>\n",
       "      <td>0</td>\n",
       "      <td>0</td>\n",
       "      <td>0</td>\n",
       "      <td>0</td>\n",
       "      <td>0</td>\n",
       "      <td>0</td>\n",
       "      <td>0</td>\n",
       "      <td>0</td>\n",
       "      <td>0</td>\n",
       "      <td>0</td>\n",
       "      <td>0</td>\n",
       "      <td>0</td>\n",
       "      <td>0</td>\n",
       "      <td>0</td>\n",
       "      <td>0</td>\n",
       "      <td>0</td>\n",
       "      <td>1</td>\n",
       "      <td>9</td>\n",
       "      <td>14</td>\n",
       "      <td>26</td>\n",
       "    </tr>\n",
       "  </tbody>\n",
       "</table>\n",
       "</div>"
      ],
      "text/plain": [
       "        UNIQUEID  DISBURSED_AMOUNT  ASSET_COST    LTV  BRANCH_ID  SUPPLIER_ID  \\\n",
       "181843    505120             58013       75981  78.97          7        14734   \n",
       "35593     504840             67169       87652  78.72        162        23833   \n",
       "\n",
       "        MANUFACTURER_ID  CURRENT_PINCODE_ID EMPLOYMENT_TYPE  STATE_ID  \\\n",
       "181843               45                5804   Self employed         3   \n",
       "35593                86                1890        Salaried         4   \n",
       "\n",
       "        EMPLOYEE_CODE_ID  AADHAR_FLAG  PAN_FLAG  VOTERID_FLAG  DRIVING_FLAG  \\\n",
       "181843              2504            1         0             0             0   \n",
       "35593                 11            0         0             1             0   \n",
       "\n",
       "        PASSPORT_FLAG  PERFORM_CNS_SCORE PERFORM_CNS_SCORE_DESCRIPTION  \\\n",
       "181843              0                  0   No Bureau History Available   \n",
       "35593               0                  0   No Bureau History Available   \n",
       "\n",
       "        PRI_NO_OF_ACCTS  PRI_ACTIVE_ACCTS  PRI_OVERDUE_ACCTS  \\\n",
       "181843                0                 0                  0   \n",
       "35593                 0                 0                  0   \n",
       "\n",
       "        PRI_CURRENT_BALANCE  PRI_SANCTIONED_AMOUNT  PRI_DISBURSED_AMOUNT  \\\n",
       "181843                    0                      0                     0   \n",
       "35593                     0                      0                     0   \n",
       "\n",
       "        SEC_NO_OF_ACCTS  SEC_ACTIVE_ACCTS  SEC_OVERDUE_ACCTS  \\\n",
       "181843                0                 0                  0   \n",
       "35593                 0                 0                  0   \n",
       "\n",
       "        SEC_CURRENT_BALANCE  SEC_SANCTIONED_AMOUNT  SEC_DISBURSED_AMOUNT  \\\n",
       "181843                    0                      0                     0   \n",
       "35593                     0                      0                     0   \n",
       "\n",
       "        PRIMARY_INSTAL_AMT  SEC_INSTAL_AMT  NEW_ACCTS_IN_LAST_SIX_MONTHS  \\\n",
       "181843                   0               0                             0   \n",
       "35593                    0               0                             0   \n",
       "\n",
       "        DELINQUENT_ACCTS_IN_LAST_SIX_MONTHS  AVERAGE_ACCT_AGE  \\\n",
       "181843                                    0                 0   \n",
       "35593                                     0                 0   \n",
       "\n",
       "        CREDIT_HISTORY_LENGTH  NO_OF_INQUIRIES  DISBURSAL_MONTH  \\\n",
       "181843                      0                0                9   \n",
       "35593                       0                1                9   \n",
       "\n",
       "        DISBURSAL_DAY  AGE  \n",
       "181843             14   38  \n",
       "35593              14   26  "
      ]
     },
     "execution_count": 71,
     "metadata": {},
     "output_type": "execute_result"
    }
   ],
   "source": [
    "X_test.head(2)"
   ]
  },
  {
   "cell_type": "code",
   "execution_count": 72,
   "id": "37e82c9a",
   "metadata": {},
   "outputs": [
    {
     "name": "stdout",
     "output_type": "stream",
     "text": [
      "<class 'pandas.core.frame.DataFrame'>\n",
      "RangeIndex: 233154 entries, 0 to 233153\n",
      "Data columns (total 42 columns):\n",
      " #   Column                               Non-Null Count   Dtype  \n",
      "---  ------                               --------------   -----  \n",
      " 0   UNIQUEID                             233154 non-null  int64  \n",
      " 1   DISBURSED_AMOUNT                     233154 non-null  int64  \n",
      " 2   ASSET_COST                           233154 non-null  int64  \n",
      " 3   LTV                                  233154 non-null  float64\n",
      " 4   BRANCH_ID                            233154 non-null  int64  \n",
      " 5   SUPPLIER_ID                          233154 non-null  int64  \n",
      " 6   MANUFACTURER_ID                      233154 non-null  int64  \n",
      " 7   CURRENT_PINCODE_ID                   233154 non-null  int64  \n",
      " 8   STATE_ID                             233154 non-null  int64  \n",
      " 9   EMPLOYEE_CODE_ID                     233154 non-null  int64  \n",
      " 10  AADHAR_FLAG                          233154 non-null  int64  \n",
      " 11  PAN_FLAG                             233154 non-null  int64  \n",
      " 12  VOTERID_FLAG                         233154 non-null  int64  \n",
      " 13  DRIVING_FLAG                         233154 non-null  int64  \n",
      " 14  PASSPORT_FLAG                        233154 non-null  int64  \n",
      " 15  PERFORM_CNS_SCORE                    233154 non-null  int64  \n",
      " 16  PERFORM_CNS_SCORE_DESCRIPTION        233154 non-null  int64  \n",
      " 17  PRI_NO_OF_ACCTS                      233154 non-null  int64  \n",
      " 18  PRI_ACTIVE_ACCTS                     233154 non-null  int64  \n",
      " 19  PRI_OVERDUE_ACCTS                    233154 non-null  int64  \n",
      " 20  PRI_CURRENT_BALANCE                  233154 non-null  int64  \n",
      " 21  PRI_SANCTIONED_AMOUNT                233154 non-null  int64  \n",
      " 22  PRI_DISBURSED_AMOUNT                 233154 non-null  int64  \n",
      " 23  SEC_NO_OF_ACCTS                      233154 non-null  int64  \n",
      " 24  SEC_ACTIVE_ACCTS                     233154 non-null  int64  \n",
      " 25  SEC_OVERDUE_ACCTS                    233154 non-null  int64  \n",
      " 26  SEC_CURRENT_BALANCE                  233154 non-null  int64  \n",
      " 27  SEC_SANCTIONED_AMOUNT                233154 non-null  int64  \n",
      " 28  SEC_DISBURSED_AMOUNT                 233154 non-null  int64  \n",
      " 29  PRIMARY_INSTAL_AMT                   233154 non-null  int64  \n",
      " 30  SEC_INSTAL_AMT                       233154 non-null  int64  \n",
      " 31  NEW_ACCTS_IN_LAST_SIX_MONTHS         233154 non-null  int64  \n",
      " 32  DELINQUENT_ACCTS_IN_LAST_SIX_MONTHS  233154 non-null  int64  \n",
      " 33  AVERAGE_ACCT_AGE                     233154 non-null  int64  \n",
      " 34  CREDIT_HISTORY_LENGTH                233154 non-null  int64  \n",
      " 35  NO_OF_INQUIRIES                      233154 non-null  int64  \n",
      " 36  LOAN_DEFAULT                         233154 non-null  int64  \n",
      " 37  DISBURSAL_MONTH                      233154 non-null  int64  \n",
      " 38  DISBURSAL_DAY                        233154 non-null  int64  \n",
      " 39  EMPLOYMENT_TYPE_SALARIED             233154 non-null  int64  \n",
      " 40  EMPLOYMENT_TYPE_SELF_EMPLOYED        233154 non-null  int64  \n",
      " 41  AGE                                  233154 non-null  int64  \n",
      "dtypes: float64(1), int64(41)\n",
      "memory usage: 74.7 MB\n"
     ]
    }
   ],
   "source": [
    "df.info()"
   ]
  },
  {
   "cell_type": "code",
   "execution_count": 73,
   "id": "9a50535f",
   "metadata": {},
   "outputs": [
    {
     "name": "stdout",
     "output_type": "stream",
     "text": [
      "<class 'pandas.core.frame.DataFrame'>\n",
      "Int64Index: 174865 entries, 23657 to 101779\n",
      "Data columns (total 40 columns):\n",
      " #   Column                               Non-Null Count   Dtype  \n",
      "---  ------                               --------------   -----  \n",
      " 0   UNIQUEID                             174865 non-null  int64  \n",
      " 1   DISBURSED_AMOUNT                     174865 non-null  int64  \n",
      " 2   ASSET_COST                           174865 non-null  int64  \n",
      " 3   LTV                                  174865 non-null  float64\n",
      " 4   BRANCH_ID                            174865 non-null  int64  \n",
      " 5   SUPPLIER_ID                          174865 non-null  int64  \n",
      " 6   MANUFACTURER_ID                      174865 non-null  int64  \n",
      " 7   CURRENT_PINCODE_ID                   174865 non-null  int64  \n",
      " 8   EMPLOYMENT_TYPE                      174865 non-null  object \n",
      " 9   STATE_ID                             174865 non-null  int64  \n",
      " 10  EMPLOYEE_CODE_ID                     174865 non-null  int64  \n",
      " 11  AADHAR_FLAG                          174865 non-null  int64  \n",
      " 12  PAN_FLAG                             174865 non-null  int64  \n",
      " 13  VOTERID_FLAG                         174865 non-null  int64  \n",
      " 14  DRIVING_FLAG                         174865 non-null  int64  \n",
      " 15  PASSPORT_FLAG                        174865 non-null  int64  \n",
      " 16  PERFORM_CNS_SCORE                    174865 non-null  int64  \n",
      " 17  PERFORM_CNS_SCORE_DESCRIPTION        174865 non-null  object \n",
      " 18  PRI_NO_OF_ACCTS                      174865 non-null  int64  \n",
      " 19  PRI_ACTIVE_ACCTS                     174865 non-null  int64  \n",
      " 20  PRI_OVERDUE_ACCTS                    174865 non-null  int64  \n",
      " 21  PRI_CURRENT_BALANCE                  174865 non-null  int64  \n",
      " 22  PRI_SANCTIONED_AMOUNT                174865 non-null  int64  \n",
      " 23  PRI_DISBURSED_AMOUNT                 174865 non-null  int64  \n",
      " 24  SEC_NO_OF_ACCTS                      174865 non-null  int64  \n",
      " 25  SEC_ACTIVE_ACCTS                     174865 non-null  int64  \n",
      " 26  SEC_OVERDUE_ACCTS                    174865 non-null  int64  \n",
      " 27  SEC_CURRENT_BALANCE                  174865 non-null  int64  \n",
      " 28  SEC_SANCTIONED_AMOUNT                174865 non-null  int64  \n",
      " 29  SEC_DISBURSED_AMOUNT                 174865 non-null  int64  \n",
      " 30  PRIMARY_INSTAL_AMT                   174865 non-null  int64  \n",
      " 31  SEC_INSTAL_AMT                       174865 non-null  int64  \n",
      " 32  NEW_ACCTS_IN_LAST_SIX_MONTHS         174865 non-null  int64  \n",
      " 33  DELINQUENT_ACCTS_IN_LAST_SIX_MONTHS  174865 non-null  int64  \n",
      " 34  AVERAGE_ACCT_AGE                     174865 non-null  int64  \n",
      " 35  CREDIT_HISTORY_LENGTH                174865 non-null  int64  \n",
      " 36  NO_OF_INQUIRIES                      174865 non-null  int64  \n",
      " 37  DISBURSAL_MONTH                      174865 non-null  int64  \n",
      " 38  DISBURSAL_DAY                        174865 non-null  int64  \n",
      " 39  AGE                                  174865 non-null  int64  \n",
      "dtypes: float64(1), int64(37), object(2)\n",
      "memory usage: 58.7+ MB\n"
     ]
    }
   ],
   "source": [
    "X_train.info()"
   ]
  },
  {
   "cell_type": "code",
   "execution_count": 74,
   "id": "20f39d5b",
   "metadata": {},
   "outputs": [
    {
     "name": "stdout",
     "output_type": "stream",
     "text": [
      "<class 'pandas.core.frame.DataFrame'>\n",
      "Int64Index: 58289 entries, 181843 to 230400\n",
      "Data columns (total 40 columns):\n",
      " #   Column                               Non-Null Count  Dtype  \n",
      "---  ------                               --------------  -----  \n",
      " 0   UNIQUEID                             58289 non-null  int64  \n",
      " 1   DISBURSED_AMOUNT                     58289 non-null  int64  \n",
      " 2   ASSET_COST                           58289 non-null  int64  \n",
      " 3   LTV                                  58289 non-null  float64\n",
      " 4   BRANCH_ID                            58289 non-null  int64  \n",
      " 5   SUPPLIER_ID                          58289 non-null  int64  \n",
      " 6   MANUFACTURER_ID                      58289 non-null  int64  \n",
      " 7   CURRENT_PINCODE_ID                   58289 non-null  int64  \n",
      " 8   EMPLOYMENT_TYPE                      58289 non-null  object \n",
      " 9   STATE_ID                             58289 non-null  int64  \n",
      " 10  EMPLOYEE_CODE_ID                     58289 non-null  int64  \n",
      " 11  AADHAR_FLAG                          58289 non-null  int64  \n",
      " 12  PAN_FLAG                             58289 non-null  int64  \n",
      " 13  VOTERID_FLAG                         58289 non-null  int64  \n",
      " 14  DRIVING_FLAG                         58289 non-null  int64  \n",
      " 15  PASSPORT_FLAG                        58289 non-null  int64  \n",
      " 16  PERFORM_CNS_SCORE                    58289 non-null  int64  \n",
      " 17  PERFORM_CNS_SCORE_DESCRIPTION        58289 non-null  object \n",
      " 18  PRI_NO_OF_ACCTS                      58289 non-null  int64  \n",
      " 19  PRI_ACTIVE_ACCTS                     58289 non-null  int64  \n",
      " 20  PRI_OVERDUE_ACCTS                    58289 non-null  int64  \n",
      " 21  PRI_CURRENT_BALANCE                  58289 non-null  int64  \n",
      " 22  PRI_SANCTIONED_AMOUNT                58289 non-null  int64  \n",
      " 23  PRI_DISBURSED_AMOUNT                 58289 non-null  int64  \n",
      " 24  SEC_NO_OF_ACCTS                      58289 non-null  int64  \n",
      " 25  SEC_ACTIVE_ACCTS                     58289 non-null  int64  \n",
      " 26  SEC_OVERDUE_ACCTS                    58289 non-null  int64  \n",
      " 27  SEC_CURRENT_BALANCE                  58289 non-null  int64  \n",
      " 28  SEC_SANCTIONED_AMOUNT                58289 non-null  int64  \n",
      " 29  SEC_DISBURSED_AMOUNT                 58289 non-null  int64  \n",
      " 30  PRIMARY_INSTAL_AMT                   58289 non-null  int64  \n",
      " 31  SEC_INSTAL_AMT                       58289 non-null  int64  \n",
      " 32  NEW_ACCTS_IN_LAST_SIX_MONTHS         58289 non-null  int64  \n",
      " 33  DELINQUENT_ACCTS_IN_LAST_SIX_MONTHS  58289 non-null  int64  \n",
      " 34  AVERAGE_ACCT_AGE                     58289 non-null  int64  \n",
      " 35  CREDIT_HISTORY_LENGTH                58289 non-null  int64  \n",
      " 36  NO_OF_INQUIRIES                      58289 non-null  int64  \n",
      " 37  DISBURSAL_MONTH                      58289 non-null  int64  \n",
      " 38  DISBURSAL_DAY                        58289 non-null  int64  \n",
      " 39  AGE                                  58289 non-null  int64  \n",
      "dtypes: float64(1), int64(37), object(2)\n",
      "memory usage: 20.2+ MB\n"
     ]
    }
   ],
   "source": [
    "X_test.info()"
   ]
  },
  {
   "cell_type": "code",
   "execution_count": 75,
   "id": "c3c7eb80",
   "metadata": {},
   "outputs": [],
   "source": [
    "# X_train.to_csv('X_train_NEWWWW.csv',index=False)"
   ]
  },
  {
   "cell_type": "code",
   "execution_count": 76,
   "id": "d1d426f9",
   "metadata": {},
   "outputs": [],
   "source": [
    "# X_test.to_csv('X_test_NEWWWW.csv',index=False)"
   ]
  },
  {
   "cell_type": "code",
   "execution_count": 77,
   "id": "5b638848",
   "metadata": {},
   "outputs": [],
   "source": [
    "# y_train.to_csv('y_train.csv',index=False)"
   ]
  },
  {
   "cell_type": "code",
   "execution_count": 78,
   "id": "231717b7",
   "metadata": {},
   "outputs": [],
   "source": [
    "# y_test.to_csv('y_test.csv',index=False)"
   ]
  },
  {
   "cell_type": "code",
   "execution_count": 79,
   "id": "724425df",
   "metadata": {},
   "outputs": [],
   "source": [
    "# df.to_csv('df_for_clustering.csv', index=False)"
   ]
  },
  {
   "cell_type": "markdown",
   "id": "44c8961b",
   "metadata": {},
   "source": [
    "# EDA"
   ]
  },
  {
   "cell_type": "markdown",
   "id": "3de26fc1",
   "metadata": {},
   "source": [
    "### 1. `LOAN_DEFAULT` <a class=\"anchor\" id=\"loan_default\"></a>"
   ]
  },
  {
   "cell_type": "code",
   "execution_count": 93,
   "id": "9e4ac4b0",
   "metadata": {
    "scrolled": false
   },
   "outputs": [
    {
     "data": {
      "image/png": "[encoded data removed]",
      "text/plain": [
       "<Figure size 400x500 with 1 Axes>"
      ]
     },
     "metadata": {},
     "output_type": "display_data"
    }
   ],
   "source": [
    "plt.figure(figsize=(4,5))\n",
    "ax = sns.countplot(x='LOAN_DEFAULT', data=df)\n",
    "ax.bar_label(ax.containers[0])\n",
    "ax.set_title('Loan Counts')\n",
    "plt.show();\n",
    "\n",
    "# ax.figure.savefig('loan_count.png')"
   ]
  },
  {
   "cell_type": "markdown",
   "id": "8bb65d6d",
   "metadata": {},
   "source": [
    "Classes are imbalanced with non-default cases almost quadrupling default ones."
   ]
  },
  {
   "cell_type": "markdown",
   "id": "50895ace",
   "metadata": {},
   "source": [
    "### 2. `PERFORM_CNS_SCORE_DESCRIPTION` <a class=\"anchor\" id=\"cns\"></a>"
   ]
  },
  {
   "cell_type": "markdown",
   "id": "4931d136",
   "metadata": {},
   "source": [
    "To get a broader sense, I remap CNS score description from numeric to its risk type."
   ]
  },
  {
   "cell_type": "code",
   "execution_count": 82,
   "id": "e4df252a",
   "metadata": {},
   "outputs": [],
   "source": [
    "mapping ={0:'No_History',\n",
    "         1:'Not_Scored',\n",
    "         2:'Very_High_Risk',\n",
    "         3:'High_Risk',\n",
    "         4:'Medium_Risk',\n",
    "         5:'Low_Risk',\n",
    "         6:'Very_Low_Risk'}\n",
    "\n",
    "df['PERFORM_CNS_SCORE_DESCRIPTION']=df['PERFORM_CNS_SCORE_DESCRIPTION'].map(mapping)"
   ]
  },
  {
   "cell_type": "code",
   "execution_count": 83,
   "id": "2c6a88a2",
   "metadata": {
    "scrolled": true
   },
   "outputs": [
    {
     "data": {
      "image/png": "[encoded data removed]",
      "text/plain": [
       "<Figure size 640x480 with 1 Axes>"
      ]
     },
     "metadata": {},
     "output_type": "display_data"
    }
   ],
   "source": [
    "# look at the distribution of risk types\n",
    "risk_group=[group for group in mapping.values() if group.endswith('k')]\n",
    "for i in risk_group:\n",
    "    plt.hist(df.loc[df['PERFORM_CNS_SCORE_DESCRIPTION']==i]['PERFORM_CNS_SCORE'],label=i,alpha=0.5)\n",
    "plt.legend(loc='upper left')\n",
    "plt.title('Distribution of CNS score')\n",
    "plt.show()"
   ]
  },
  {
   "cell_type": "code",
   "execution_count": 84,
   "id": "241f014f",
   "metadata": {},
   "outputs": [
    {
     "data": {
      "image/png": "[encoded data removed]",
      "text/plain": [
       "<Figure size 1400x400 with 1 Axes>"
      ]
     },
     "metadata": {},
     "output_type": "display_data"
    }
   ],
   "source": [
    "# Number of loan defaults by CNS_SCORE_DESCRIPTION\n",
    "plt.figure(figsize=(14,4))\n",
    "sns.countplot(x='PERFORM_CNS_SCORE_DESCRIPTION', hue = 'LOAN_DEFAULT', data = df, palette = 'magma')\n",
    "plt.title('Number of loan defaults by CNS_SCORE_DESCRIPTION')\n",
    "plt.show()"
   ]
  },
  {
   "cell_type": "markdown",
   "id": "3bfb8390",
   "metadata": {},
   "source": [
    "We can see that most of the loans (defaults and non-defaults) come from `No_History` and `Very_Low_Risk` groups, and their number of defaults are also highest. "
   ]
  },
  {
   "cell_type": "code",
   "execution_count": 85,
   "id": "056a4b02",
   "metadata": {
    "scrolled": true
   },
   "outputs": [
    {
     "data": {
      "image/png": "[encoded data removed]",
      "text/plain": [
       "<Figure size 640x480 with 1 Axes>"
      ]
     },
     "metadata": {},
     "output_type": "display_data"
    }
   ],
   "source": [
    "default_risk=df.groupby('PERFORM_CNS_SCORE_DESCRIPTION').sum()['LOAN_DEFAULT']\n",
    "\n",
    "# define Seaborn color palette and exploding pies\n",
    "palette_color = sns.color_palette('pastel')\n",
    "explode = [0, 0, 0, 0.05, 0, 0, 0.05]  \n",
    "\n",
    "# plot\n",
    "plt.pie(default_risk, labels=default_risk.index, colors=palette_color,\\\n",
    "        explode=explode, autopct='%.0f%%')\n",
    "plt.title('Default contribution by PERFORM_CNS_SCORE_DESCRIPTION')\n",
    "\n",
    "# plt.savefig('risk_default.png')\n",
    "# display\n",
    "plt.show()"
   ]
  },
  {
   "cell_type": "markdown",
   "id": "8956c3cd",
   "metadata": {},
   "source": [
    "Of all default cases, **53%** comes from `No_History`, and surprisingly, **16%** from`Very_Low_Risk`."
   ]
  },
  {
   "cell_type": "markdown",
   "id": "c1623e3a",
   "metadata": {},
   "source": [
    "### 3. Default rate by state <a class=\"anchor\" id=\"default_state\"></a>"
   ]
  },
  {
   "cell_type": "code",
   "execution_count": 86,
   "id": "599a4771",
   "metadata": {
    "scrolled": true
   },
   "outputs": [
    {
     "data": {
      "image/png": "[encoded data removed]",
      "text/plain": [
       "<Figure size 640x480 with 1 Axes>"
      ]
     },
     "metadata": {},
     "output_type": "display_data"
    }
   ],
   "source": [
    "default_state=df.groupby('STATE_ID')['LOAN_DEFAULT'].mean().sort_values(ascending=False)\n",
    "default_state.plot(kind='barh');"
   ]
  },
  {
   "cell_type": "markdown",
   "id": "166916a5",
   "metadata": {},
   "source": [
    "We can see that default rates are different between states. In fact, `STATE_ID` **13, 14, 2, 12 and 17** have very high percentage of default where at least 1/4 borrowers will default in these states."
   ]
  },
  {
   "cell_type": "markdown",
   "id": "ffa2686d",
   "metadata": {},
   "source": [
    "### 4. `LTV` <a class=\"anchor\" id=\"ltv\"></a>"
   ]
  },
  {
   "cell_type": "code",
   "execution_count": 87,
   "id": "a5aa6e92",
   "metadata": {
    "scrolled": false
   },
   "outputs": [
    {
     "data": {
      "image/png": "[encoded data removed]",
      "text/plain": [
       "<Figure size 1000x300 with 1 Axes>"
      ]
     },
     "metadata": {},
     "output_type": "display_data"
    }
   ],
   "source": [
    "plt.figure(figsize=(10,3))\n",
    "sns.histplot(data=df, bins=100, x=df['LTV'], hue='LOAN_DEFAULT', alpha=0.2)\n",
    "plt.title('LTV distribution by LOAN_DEFAULT');"
   ]
  },
  {
   "cell_type": "markdown",
   "id": "a35a0ca1",
   "metadata": {
    "scrolled": true
   },
   "source": [
    "We can see that default cases are mostly between **70%** and **90%** of `LTV`."
   ]
  },
  {
   "cell_type": "markdown",
   "id": "77826f85",
   "metadata": {},
   "source": [
    "### 5. `LOAN_DEFAULT` by month <a class=\"anchor\" id=\"default_month\"></a>"
   ]
  },
  {
   "cell_type": "code",
   "execution_count": 88,
   "id": "73b9dc59",
   "metadata": {},
   "outputs": [
    {
     "data": {
      "image/png": "[encoded data removed]",
      "text/plain": [
       "<Figure size 640x480 with 1 Axes>"
      ]
     },
     "metadata": {},
     "output_type": "display_data"
    }
   ],
   "source": [
    "month_default=df.groupby('DISBURSAL_MONTH')['LOAN_DEFAULT'].value_counts().unstack().sort_values(by=1)\n",
    "month_default.plot(kind='barh', stacked=True);"
   ]
  },
  {
   "cell_type": "markdown",
   "id": "770947ac",
   "metadata": {},
   "source": [
    "We can see that the number of defaults was unusually highest in months October, August, and September. According to [Wikipedia](https://en.wikipedia.org/wiki/2018_in_India), we see that India went through a lot of upheavals in these months in 2018, such as:\n",
    "\n",
    "- August 10–20:  Heavy rainfall causes floods in Kerala, which was the worst flood to hit the state in a century. This might be the reason for the default rate in this state (STATE_ID = 14) greater than 25%.\n",
    "- Sept 14: Infrastructure finance company IL&FS defaulted on payment obligations to lenders and failed to meet the commercial paper redemption obligations thereby triggering panic and liquidity crisis in the markets.\n",
    "- October 10:  At least five people died and 30 were injured when a passenger train derailed in the north Indian state of Uttar Pradesh.\n",
    "- October 19:  Amritsar train disaster.\n",
    "\n",
    "All of these might affect the financial stability of borrowers, causing more default cases than the other months."
   ]
  }
 ],
 "metadata": {
  "kernelspec": {
   "display_name": "Python 3 (ipykernel)",
   "language": "python",
   "name": "python3"
  },
  "language_info": {
   "codemirror_mode": {
    "name": "ipython",
    "version": 3
   },
   "file_extension": ".py",
   "mimetype": "text/x-python",
   "name": "python",
   "nbconvert_exporter": "python",
   "pygments_lexer": "ipython3",
   "version": "3.9.13"
  }
 },
 "nbformat": 4,
 "nbformat_minor": 5
}
